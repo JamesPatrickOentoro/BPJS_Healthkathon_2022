{
 "cells": [
  {
   "cell_type": "code",
   "execution_count": 1,
   "id": "69ce6e2e",
   "metadata": {},
   "outputs": [
    {
     "name": "stdout",
     "output_type": "stream",
     "text": [
      "Looking in indexes: https://pypi.org/simple, https://pypi.ngc.nvidia.com\n",
      "Requirement already satisfied: imbalanced_learn in c:\\users\\jmspa\\anaconda3\\lib\\site-packages (0.9.1)\n",
      "Requirement already satisfied: scikit-learn>=1.1.0 in c:\\users\\jmspa\\anaconda3\\lib\\site-packages (from imbalanced_learn) (1.1.1)\n",
      "Requirement already satisfied: scipy>=1.3.2 in c:\\users\\jmspa\\anaconda3\\lib\\site-packages (from imbalanced_learn) (1.5.2)\n",
      "Requirement already satisfied: threadpoolctl>=2.0.0 in c:\\users\\jmspa\\anaconda3\\lib\\site-packages (from imbalanced_learn) (2.2.0)\n",
      "Requirement already satisfied: numpy>=1.17.3 in c:\\users\\jmspa\\anaconda3\\lib\\site-packages (from imbalanced_learn) (1.23.0)\n",
      "Requirement already satisfied: joblib>=1.0.0 in c:\\users\\jmspa\\anaconda3\\lib\\site-packages (from imbalanced_learn) (1.1.0)\n"
     ]
    }
   ],
   "source": [
    "!pip install imbalanced_learn"
   ]
  },
  {
   "cell_type": "code",
   "execution_count": 2,
   "id": "3eed020e",
   "metadata": {},
   "outputs": [],
   "source": [
    "import pandas as pd\n",
    "import numpy as np\n",
    "from imblearn.over_sampling import SMOTE"
   ]
  },
  {
   "cell_type": "code",
   "execution_count": 3,
   "id": "96d695bb",
   "metadata": {},
   "outputs": [],
   "source": [
    "df_diag = pd.read_csv(\"sampling_healthkathon2022_diagnosa\\sampling_healthkathon2022_diagnosa.csv\")\n",
    "df_proc = pd.read_csv(\"sampling_healthkathon2022_procedure\\sampling_healthkathon2022_procedure.csv\")\n",
    "df = pd.read_csv(\"sampling_healtkathon2022\\sampling_healtkathon2022.csv\")"
   ]
  },
  {
   "cell_type": "code",
   "execution_count": 4,
   "id": "6d472270",
   "metadata": {},
   "outputs": [],
   "source": [
    "pd.options.display.max_columns = None"
   ]
  },
  {
   "cell_type": "code",
   "execution_count": 5,
   "id": "ac11c044",
   "metadata": {},
   "outputs": [
    {
     "data": {
      "text/html": [
       "<div>\n",
       "<style scoped>\n",
       "    .dataframe tbody tr th:only-of-type {\n",
       "        vertical-align: middle;\n",
       "    }\n",
       "\n",
       "    .dataframe tbody tr th {\n",
       "        vertical-align: top;\n",
       "    }\n",
       "\n",
       "    .dataframe thead th {\n",
       "        text-align: right;\n",
       "    }\n",
       "</style>\n",
       "<table border=\"1\" class=\"dataframe\">\n",
       "  <thead>\n",
       "    <tr style=\"text-align: right;\">\n",
       "      <th></th>\n",
       "      <th>id</th>\n",
       "      <th>proc</th>\n",
       "    </tr>\n",
       "  </thead>\n",
       "  <tbody>\n",
       "    <tr>\n",
       "      <th>0</th>\n",
       "      <td>6</td>\n",
       "      <td>90.59</td>\n",
       "    </tr>\n",
       "    <tr>\n",
       "      <th>1</th>\n",
       "      <td>6</td>\n",
       "      <td>69.01</td>\n",
       "    </tr>\n",
       "    <tr>\n",
       "      <th>2</th>\n",
       "      <td>6</td>\n",
       "      <td>88.78</td>\n",
       "    </tr>\n",
       "    <tr>\n",
       "      <th>3</th>\n",
       "      <td>27</td>\n",
       "      <td>90.59</td>\n",
       "    </tr>\n",
       "    <tr>\n",
       "      <th>4</th>\n",
       "      <td>27</td>\n",
       "      <td>88.78</td>\n",
       "    </tr>\n",
       "    <tr>\n",
       "      <th>...</th>\n",
       "      <td>...</td>\n",
       "      <td>...</td>\n",
       "    </tr>\n",
       "    <tr>\n",
       "      <th>12202866</th>\n",
       "      <td>11426915</td>\n",
       "      <td>93.57</td>\n",
       "    </tr>\n",
       "    <tr>\n",
       "      <th>12202867</th>\n",
       "      <td>11426927</td>\n",
       "      <td>89.52</td>\n",
       "    </tr>\n",
       "    <tr>\n",
       "      <th>12202868</th>\n",
       "      <td>11426927</td>\n",
       "      <td>96.55</td>\n",
       "    </tr>\n",
       "    <tr>\n",
       "      <th>12202869</th>\n",
       "      <td>11426927</td>\n",
       "      <td>87.39</td>\n",
       "    </tr>\n",
       "    <tr>\n",
       "      <th>12202870</th>\n",
       "      <td>11426927</td>\n",
       "      <td>93.96</td>\n",
       "    </tr>\n",
       "  </tbody>\n",
       "</table>\n",
       "<p>12202871 rows × 2 columns</p>\n",
       "</div>"
      ],
      "text/plain": [
       "                id   proc\n",
       "0                6  90.59\n",
       "1                6  69.01\n",
       "2                6  88.78\n",
       "3               27  90.59\n",
       "4               27  88.78\n",
       "...            ...    ...\n",
       "12202866  11426915  93.57\n",
       "12202867  11426927  89.52\n",
       "12202868  11426927  96.55\n",
       "12202869  11426927  87.39\n",
       "12202870  11426927  93.96\n",
       "\n",
       "[12202871 rows x 2 columns]"
      ]
     },
     "execution_count": 5,
     "metadata": {},
     "output_type": "execute_result"
    }
   ],
   "source": [
    "df_proc"
   ]
  },
  {
   "cell_type": "code",
   "execution_count": 6,
   "id": "274ee975",
   "metadata": {},
   "outputs": [
    {
     "data": {
      "text/html": [
       "<div>\n",
       "<style scoped>\n",
       "    .dataframe tbody tr th:only-of-type {\n",
       "        vertical-align: middle;\n",
       "    }\n",
       "\n",
       "    .dataframe tbody tr th {\n",
       "        vertical-align: top;\n",
       "    }\n",
       "\n",
       "    .dataframe thead th {\n",
       "        text-align: right;\n",
       "    }\n",
       "</style>\n",
       "<table border=\"1\" class=\"dataframe\">\n",
       "  <thead>\n",
       "    <tr style=\"text-align: right;\">\n",
       "      <th></th>\n",
       "      <th>id</th>\n",
       "      <th>diag</th>\n",
       "      <th>levelid</th>\n",
       "    </tr>\n",
       "  </thead>\n",
       "  <tbody>\n",
       "    <tr>\n",
       "      <th>0</th>\n",
       "      <td>6</td>\n",
       "      <td>O06.9</td>\n",
       "      <td>1</td>\n",
       "    </tr>\n",
       "    <tr>\n",
       "      <th>1</th>\n",
       "      <td>57</td>\n",
       "      <td>J02.9</td>\n",
       "      <td>1</td>\n",
       "    </tr>\n",
       "    <tr>\n",
       "      <th>2</th>\n",
       "      <td>91</td>\n",
       "      <td>R10.1</td>\n",
       "      <td>1</td>\n",
       "    </tr>\n",
       "    <tr>\n",
       "      <th>3</th>\n",
       "      <td>109</td>\n",
       "      <td>R18</td>\n",
       "      <td>1</td>\n",
       "    </tr>\n",
       "    <tr>\n",
       "      <th>4</th>\n",
       "      <td>111</td>\n",
       "      <td>N81.3</td>\n",
       "      <td>1</td>\n",
       "    </tr>\n",
       "  </tbody>\n",
       "</table>\n",
       "</div>"
      ],
      "text/plain": [
       "    id   diag  levelid\n",
       "0    6  O06.9        1\n",
       "1   57  J02.9        1\n",
       "2   91  R10.1        1\n",
       "3  109    R18        1\n",
       "4  111  N81.3        1"
      ]
     },
     "execution_count": 6,
     "metadata": {},
     "output_type": "execute_result"
    }
   ],
   "source": [
    "df_diag[:5]"
   ]
  },
  {
   "cell_type": "code",
   "execution_count": 7,
   "id": "45ab1de7",
   "metadata": {},
   "outputs": [
    {
     "data": {
      "text/html": [
       "<div>\n",
       "<style scoped>\n",
       "    .dataframe tbody tr th:only-of-type {\n",
       "        vertical-align: middle;\n",
       "    }\n",
       "\n",
       "    .dataframe tbody tr th {\n",
       "        vertical-align: top;\n",
       "    }\n",
       "\n",
       "    .dataframe thead th {\n",
       "        text-align: right;\n",
       "    }\n",
       "</style>\n",
       "<table border=\"1\" class=\"dataframe\">\n",
       "  <thead>\n",
       "    <tr style=\"text-align: right;\">\n",
       "      <th></th>\n",
       "      <th>id</th>\n",
       "      <th>id_peserta</th>\n",
       "      <th>dati2</th>\n",
       "      <th>typefaskes</th>\n",
       "      <th>usia</th>\n",
       "      <th>jenkel</th>\n",
       "      <th>pisat</th>\n",
       "      <th>tgldatang</th>\n",
       "      <th>tglpulang</th>\n",
       "      <th>jenispel</th>\n",
       "      <th>politujuan</th>\n",
       "      <th>diagfktp</th>\n",
       "      <th>biaya</th>\n",
       "      <th>jenispulang</th>\n",
       "      <th>cbg</th>\n",
       "      <th>kelasrawat</th>\n",
       "      <th>kdsa</th>\n",
       "      <th>kdsp</th>\n",
       "      <th>kdsr</th>\n",
       "      <th>kdsi</th>\n",
       "      <th>kdsd</th>\n",
       "      <th>label</th>\n",
       "    </tr>\n",
       "  </thead>\n",
       "  <tbody>\n",
       "    <tr>\n",
       "      <th>0</th>\n",
       "      <td>165666</td>\n",
       "      <td>486</td>\n",
       "      <td>17</td>\n",
       "      <td>KL</td>\n",
       "      <td>48</td>\n",
       "      <td>P</td>\n",
       "      <td>1.0</td>\n",
       "      <td>2018-07-25T17:00:00.000Z</td>\n",
       "      <td>2018-07-25T17:00:00.000Z</td>\n",
       "      <td>2</td>\n",
       "      <td>THT</td>\n",
       "      <td>L02.8</td>\n",
       "      <td>184300.0</td>\n",
       "      <td>1.0</td>\n",
       "      <td>Q-5-42-0</td>\n",
       "      <td>3</td>\n",
       "      <td>None</td>\n",
       "      <td>None</td>\n",
       "      <td>None</td>\n",
       "      <td>None</td>\n",
       "      <td>None</td>\n",
       "      <td>0</td>\n",
       "    </tr>\n",
       "    <tr>\n",
       "      <th>1</th>\n",
       "      <td>1010828</td>\n",
       "      <td>520</td>\n",
       "      <td>17</td>\n",
       "      <td>A</td>\n",
       "      <td>63</td>\n",
       "      <td>L</td>\n",
       "      <td>1.0</td>\n",
       "      <td>2019-05-27T17:00:00.000Z</td>\n",
       "      <td>2019-05-30T17:00:00.000Z</td>\n",
       "      <td>1</td>\n",
       "      <td>NaN</td>\n",
       "      <td>R23.1</td>\n",
       "      <td>10628400.0</td>\n",
       "      <td>1.0</td>\n",
       "      <td>D-4-13-III</td>\n",
       "      <td>1</td>\n",
       "      <td>None</td>\n",
       "      <td>None</td>\n",
       "      <td>None</td>\n",
       "      <td>None</td>\n",
       "      <td>None</td>\n",
       "      <td>0</td>\n",
       "    </tr>\n",
       "    <tr>\n",
       "      <th>2</th>\n",
       "      <td>166042</td>\n",
       "      <td>523</td>\n",
       "      <td>17</td>\n",
       "      <td>KL</td>\n",
       "      <td>53</td>\n",
       "      <td>P</td>\n",
       "      <td>1.0</td>\n",
       "      <td>2019-07-16T17:00:00.000Z</td>\n",
       "      <td>2019-07-16T17:00:00.000Z</td>\n",
       "      <td>2</td>\n",
       "      <td>INT</td>\n",
       "      <td>E10.5</td>\n",
       "      <td>187300.0</td>\n",
       "      <td>1.0</td>\n",
       "      <td>Q-5-44-0</td>\n",
       "      <td>3</td>\n",
       "      <td>None</td>\n",
       "      <td>None</td>\n",
       "      <td>None</td>\n",
       "      <td>None</td>\n",
       "      <td>None</td>\n",
       "      <td>0</td>\n",
       "    </tr>\n",
       "    <tr>\n",
       "      <th>3</th>\n",
       "      <td>168937</td>\n",
       "      <td>549</td>\n",
       "      <td>17</td>\n",
       "      <td>KL</td>\n",
       "      <td>54</td>\n",
       "      <td>P</td>\n",
       "      <td>1.0</td>\n",
       "      <td>2019-10-17T17:00:00.000Z</td>\n",
       "      <td>2019-10-17T17:00:00.000Z</td>\n",
       "      <td>2</td>\n",
       "      <td>MAT</td>\n",
       "      <td>H54.2</td>\n",
       "      <td>187300.0</td>\n",
       "      <td>1.0</td>\n",
       "      <td>Q-5-44-0</td>\n",
       "      <td>3</td>\n",
       "      <td>None</td>\n",
       "      <td>None</td>\n",
       "      <td>None</td>\n",
       "      <td>None</td>\n",
       "      <td>None</td>\n",
       "      <td>0</td>\n",
       "    </tr>\n",
       "    <tr>\n",
       "      <th>4</th>\n",
       "      <td>1005899</td>\n",
       "      <td>549</td>\n",
       "      <td>17</td>\n",
       "      <td>A</td>\n",
       "      <td>53</td>\n",
       "      <td>P</td>\n",
       "      <td>1.0</td>\n",
       "      <td>2018-04-18T17:00:00.000Z</td>\n",
       "      <td>2018-04-18T17:00:00.000Z</td>\n",
       "      <td>2</td>\n",
       "      <td>SAR</td>\n",
       "      <td>M54.5</td>\n",
       "      <td>381600.0</td>\n",
       "      <td>1.0</td>\n",
       "      <td>Q-5-44-0</td>\n",
       "      <td>3</td>\n",
       "      <td>None</td>\n",
       "      <td>None</td>\n",
       "      <td>None</td>\n",
       "      <td>None</td>\n",
       "      <td>None</td>\n",
       "      <td>0</td>\n",
       "    </tr>\n",
       "    <tr>\n",
       "      <th>5</th>\n",
       "      <td>51010</td>\n",
       "      <td>663</td>\n",
       "      <td>8</td>\n",
       "      <td>SD</td>\n",
       "      <td>50</td>\n",
       "      <td>P</td>\n",
       "      <td>1.0</td>\n",
       "      <td>2018-12-26T17:00:00.000Z</td>\n",
       "      <td>2018-12-26T17:00:00.000Z</td>\n",
       "      <td>2</td>\n",
       "      <td>IGD</td>\n",
       "      <td>D61</td>\n",
       "      <td>155000.0</td>\n",
       "      <td>2.0</td>\n",
       "      <td>Q-5-33-0</td>\n",
       "      <td>3</td>\n",
       "      <td>None</td>\n",
       "      <td>None</td>\n",
       "      <td>None</td>\n",
       "      <td>None</td>\n",
       "      <td>None</td>\n",
       "      <td>0</td>\n",
       "    </tr>\n",
       "    <tr>\n",
       "      <th>6</th>\n",
       "      <td>49388</td>\n",
       "      <td>663</td>\n",
       "      <td>8</td>\n",
       "      <td>SD</td>\n",
       "      <td>50</td>\n",
       "      <td>P</td>\n",
       "      <td>1.0</td>\n",
       "      <td>2019-01-24T17:00:00.000Z</td>\n",
       "      <td>2019-01-24T17:00:00.000Z</td>\n",
       "      <td>2</td>\n",
       "      <td>IGD</td>\n",
       "      <td>D64.9</td>\n",
       "      <td>155000.0</td>\n",
       "      <td>2.0</td>\n",
       "      <td>Q-5-33-0</td>\n",
       "      <td>3</td>\n",
       "      <td>None</td>\n",
       "      <td>None</td>\n",
       "      <td>None</td>\n",
       "      <td>None</td>\n",
       "      <td>None</td>\n",
       "      <td>0</td>\n",
       "    </tr>\n",
       "    <tr>\n",
       "      <th>7</th>\n",
       "      <td>1025249</td>\n",
       "      <td>663</td>\n",
       "      <td>17</td>\n",
       "      <td>A</td>\n",
       "      <td>49</td>\n",
       "      <td>P</td>\n",
       "      <td>1.0</td>\n",
       "      <td>2018-10-06T17:00:00.000Z</td>\n",
       "      <td>2018-10-14T17:00:00.000Z</td>\n",
       "      <td>1</td>\n",
       "      <td>NaN</td>\n",
       "      <td>K28.0</td>\n",
       "      <td>8309700.0</td>\n",
       "      <td>1.0</td>\n",
       "      <td>D-4-13-II</td>\n",
       "      <td>1</td>\n",
       "      <td>None</td>\n",
       "      <td>None</td>\n",
       "      <td>None</td>\n",
       "      <td>None</td>\n",
       "      <td>None</td>\n",
       "      <td>0</td>\n",
       "    </tr>\n",
       "    <tr>\n",
       "      <th>8</th>\n",
       "      <td>143197</td>\n",
       "      <td>736</td>\n",
       "      <td>17</td>\n",
       "      <td>KI</td>\n",
       "      <td>46</td>\n",
       "      <td>P</td>\n",
       "      <td>1.0</td>\n",
       "      <td>2020-04-19T17:00:00.000Z</td>\n",
       "      <td>2020-04-19T17:00:00.000Z</td>\n",
       "      <td>2</td>\n",
       "      <td>IGD</td>\n",
       "      <td>K30</td>\n",
       "      <td>186800.0</td>\n",
       "      <td>1.0</td>\n",
       "      <td>Q-5-42-0</td>\n",
       "      <td>3</td>\n",
       "      <td>None</td>\n",
       "      <td>None</td>\n",
       "      <td>None</td>\n",
       "      <td>None</td>\n",
       "      <td>None</td>\n",
       "      <td>0</td>\n",
       "    </tr>\n",
       "    <tr>\n",
       "      <th>9</th>\n",
       "      <td>176799</td>\n",
       "      <td>739</td>\n",
       "      <td>19</td>\n",
       "      <td>C</td>\n",
       "      <td>61</td>\n",
       "      <td>L</td>\n",
       "      <td>1.0</td>\n",
       "      <td>2020-09-28T17:00:00.000Z</td>\n",
       "      <td>2020-10-01T17:00:00.000Z</td>\n",
       "      <td>1</td>\n",
       "      <td>NaN</td>\n",
       "      <td>M06.0</td>\n",
       "      <td>2932600.0</td>\n",
       "      <td>1.0</td>\n",
       "      <td>M-4-18-I</td>\n",
       "      <td>1</td>\n",
       "      <td>None</td>\n",
       "      <td>None</td>\n",
       "      <td>None</td>\n",
       "      <td>None</td>\n",
       "      <td>None</td>\n",
       "      <td>0</td>\n",
       "    </tr>\n",
       "  </tbody>\n",
       "</table>\n",
       "</div>"
      ],
      "text/plain": [
       "        id  id_peserta  dati2 typefaskes  usia jenkel  pisat  \\\n",
       "0   165666         486     17         KL    48      P    1.0   \n",
       "1  1010828         520     17          A    63      L    1.0   \n",
       "2   166042         523     17         KL    53      P    1.0   \n",
       "3   168937         549     17         KL    54      P    1.0   \n",
       "4  1005899         549     17          A    53      P    1.0   \n",
       "5    51010         663      8         SD    50      P    1.0   \n",
       "6    49388         663      8         SD    50      P    1.0   \n",
       "7  1025249         663     17          A    49      P    1.0   \n",
       "8   143197         736     17         KI    46      P    1.0   \n",
       "9   176799         739     19          C    61      L    1.0   \n",
       "\n",
       "                  tgldatang                 tglpulang  jenispel politujuan  \\\n",
       "0  2018-07-25T17:00:00.000Z  2018-07-25T17:00:00.000Z         2        THT   \n",
       "1  2019-05-27T17:00:00.000Z  2019-05-30T17:00:00.000Z         1        NaN   \n",
       "2  2019-07-16T17:00:00.000Z  2019-07-16T17:00:00.000Z         2        INT   \n",
       "3  2019-10-17T17:00:00.000Z  2019-10-17T17:00:00.000Z         2        MAT   \n",
       "4  2018-04-18T17:00:00.000Z  2018-04-18T17:00:00.000Z         2        SAR   \n",
       "5  2018-12-26T17:00:00.000Z  2018-12-26T17:00:00.000Z         2        IGD   \n",
       "6  2019-01-24T17:00:00.000Z  2019-01-24T17:00:00.000Z         2        IGD   \n",
       "7  2018-10-06T17:00:00.000Z  2018-10-14T17:00:00.000Z         1        NaN   \n",
       "8  2020-04-19T17:00:00.000Z  2020-04-19T17:00:00.000Z         2        IGD   \n",
       "9  2020-09-28T17:00:00.000Z  2020-10-01T17:00:00.000Z         1        NaN   \n",
       "\n",
       "  diagfktp       biaya  jenispulang         cbg  kelasrawat  kdsa  kdsp  kdsr  \\\n",
       "0    L02.8    184300.0          1.0    Q-5-42-0           3  None  None  None   \n",
       "1    R23.1  10628400.0          1.0  D-4-13-III           1  None  None  None   \n",
       "2    E10.5    187300.0          1.0    Q-5-44-0           3  None  None  None   \n",
       "3    H54.2    187300.0          1.0    Q-5-44-0           3  None  None  None   \n",
       "4    M54.5    381600.0          1.0    Q-5-44-0           3  None  None  None   \n",
       "5      D61    155000.0          2.0    Q-5-33-0           3  None  None  None   \n",
       "6    D64.9    155000.0          2.0    Q-5-33-0           3  None  None  None   \n",
       "7    K28.0   8309700.0          1.0   D-4-13-II           1  None  None  None   \n",
       "8      K30    186800.0          1.0    Q-5-42-0           3  None  None  None   \n",
       "9    M06.0   2932600.0          1.0    M-4-18-I           1  None  None  None   \n",
       "\n",
       "   kdsi  kdsd  label  \n",
       "0  None  None      0  \n",
       "1  None  None      0  \n",
       "2  None  None      0  \n",
       "3  None  None      0  \n",
       "4  None  None      0  \n",
       "5  None  None      0  \n",
       "6  None  None      0  \n",
       "7  None  None      0  \n",
       "8  None  None      0  \n",
       "9  None  None      0  "
      ]
     },
     "execution_count": 7,
     "metadata": {},
     "output_type": "execute_result"
    }
   ],
   "source": [
    "df[:10]"
   ]
  },
  {
   "cell_type": "code",
   "execution_count": 8,
   "id": "7a8c9996",
   "metadata": {},
   "outputs": [
    {
     "name": "stdout",
     "output_type": "stream",
     "text": [
      "(11401882, 22)\n",
      "(17308536, 3)\n",
      "(12202871, 2)\n"
     ]
    }
   ],
   "source": [
    "print(df.shape)\n",
    "print(df_diag.shape)\n",
    "print(df_proc.shape)\n"
   ]
  },
  {
   "cell_type": "code",
   "execution_count": 9,
   "id": "78144437",
   "metadata": {},
   "outputs": [
    {
     "data": {
      "text/html": [
       "<div>\n",
       "<style scoped>\n",
       "    .dataframe tbody tr th:only-of-type {\n",
       "        vertical-align: middle;\n",
       "    }\n",
       "\n",
       "    .dataframe tbody tr th {\n",
       "        vertical-align: top;\n",
       "    }\n",
       "\n",
       "    .dataframe thead th {\n",
       "        text-align: right;\n",
       "    }\n",
       "</style>\n",
       "<table border=\"1\" class=\"dataframe\">\n",
       "  <thead>\n",
       "    <tr style=\"text-align: right;\">\n",
       "      <th></th>\n",
       "      <th>id</th>\n",
       "    </tr>\n",
       "  </thead>\n",
       "  <tbody>\n",
       "    <tr>\n",
       "      <th>count</th>\n",
       "      <td>1.220287e+07</td>\n",
       "    </tr>\n",
       "    <tr>\n",
       "      <th>mean</th>\n",
       "      <td>6.296677e+06</td>\n",
       "    </tr>\n",
       "    <tr>\n",
       "      <th>std</th>\n",
       "      <td>3.401134e+06</td>\n",
       "    </tr>\n",
       "    <tr>\n",
       "      <th>min</th>\n",
       "      <td>1.000000e+00</td>\n",
       "    </tr>\n",
       "    <tr>\n",
       "      <th>25%</th>\n",
       "      <td>3.360037e+06</td>\n",
       "    </tr>\n",
       "    <tr>\n",
       "      <th>50%</th>\n",
       "      <td>6.553008e+06</td>\n",
       "    </tr>\n",
       "    <tr>\n",
       "      <th>75%</th>\n",
       "      <td>9.481442e+06</td>\n",
       "    </tr>\n",
       "    <tr>\n",
       "      <th>max</th>\n",
       "      <td>1.142695e+07</td>\n",
       "    </tr>\n",
       "  </tbody>\n",
       "</table>\n",
       "</div>"
      ],
      "text/plain": [
       "                 id\n",
       "count  1.220287e+07\n",
       "mean   6.296677e+06\n",
       "std    3.401134e+06\n",
       "min    1.000000e+00\n",
       "25%    3.360037e+06\n",
       "50%    6.553008e+06\n",
       "75%    9.481442e+06\n",
       "max    1.142695e+07"
      ]
     },
     "execution_count": 9,
     "metadata": {},
     "output_type": "execute_result"
    }
   ],
   "source": [
    " df_proc.describe()"
   ]
  },
  {
   "cell_type": "code",
   "execution_count": 10,
   "id": "695d44c8",
   "metadata": {},
   "outputs": [
    {
     "data": {
      "text/plain": [
       "<AxesSubplot:>"
      ]
     },
     "execution_count": 10,
     "metadata": {},
     "output_type": "execute_result"
    },
    {
     "data": {
      "image/png": "[encoded data removed]",
      "text/plain": [
       "<Figure size 432x288 with 1 Axes>"
      ]
     },
     "metadata": {
      "needs_background": "light"
     },
     "output_type": "display_data"
    }
   ],
   "source": [
    "df_diag['levelid'].hist()"
   ]
  },
  {
   "cell_type": "markdown",
   "id": "2460f183",
   "metadata": {},
   "source": [
    "#### df_diag.describe()"
   ]
  },
  {
   "cell_type": "code",
   "execution_count": 11,
   "id": "a5a17971",
   "metadata": {},
   "outputs": [
    {
     "data": {
      "text/html": [
       "<div>\n",
       "<style scoped>\n",
       "    .dataframe tbody tr th:only-of-type {\n",
       "        vertical-align: middle;\n",
       "    }\n",
       "\n",
       "    .dataframe tbody tr th {\n",
       "        vertical-align: top;\n",
       "    }\n",
       "\n",
       "    .dataframe thead th {\n",
       "        text-align: right;\n",
       "    }\n",
       "</style>\n",
       "<table border=\"1\" class=\"dataframe\">\n",
       "  <thead>\n",
       "    <tr style=\"text-align: right;\">\n",
       "      <th></th>\n",
       "      <th>id</th>\n",
       "      <th>id_peserta</th>\n",
       "      <th>dati2</th>\n",
       "      <th>usia</th>\n",
       "      <th>pisat</th>\n",
       "      <th>jenispel</th>\n",
       "      <th>biaya</th>\n",
       "      <th>jenispulang</th>\n",
       "      <th>kelasrawat</th>\n",
       "      <th>label</th>\n",
       "    </tr>\n",
       "  </thead>\n",
       "  <tbody>\n",
       "    <tr>\n",
       "      <th>count</th>\n",
       "      <td>1.140188e+07</td>\n",
       "      <td>1.140188e+07</td>\n",
       "      <td>1.140188e+07</td>\n",
       "      <td>1.140188e+07</td>\n",
       "      <td>1.140169e+07</td>\n",
       "      <td>1.140188e+07</td>\n",
       "      <td>1.134407e+07</td>\n",
       "      <td>1.140184e+07</td>\n",
       "      <td>1.140188e+07</td>\n",
       "      <td>1.140188e+07</td>\n",
       "    </tr>\n",
       "    <tr>\n",
       "      <th>mean</th>\n",
       "      <td>5.712720e+06</td>\n",
       "      <td>4.199294e+06</td>\n",
       "      <td>1.825299e+02</td>\n",
       "      <td>3.705690e+01</td>\n",
       "      <td>2.498204e+00</td>\n",
       "      <td>1.645544e+00</td>\n",
       "      <td>2.146849e+06</td>\n",
       "      <td>1.094596e+00</td>\n",
       "      <td>2.784695e+00</td>\n",
       "      <td>1.375992e-02</td>\n",
       "    </tr>\n",
       "    <tr>\n",
       "      <th>std</th>\n",
       "      <td>3.298535e+06</td>\n",
       "      <td>2.436249e+06</td>\n",
       "      <td>1.061352e+02</td>\n",
       "      <td>2.292188e+01</td>\n",
       "      <td>1.390863e+00</td>\n",
       "      <td>4.783482e-01</td>\n",
       "      <td>5.207577e+06</td>\n",
       "      <td>5.131554e-01</td>\n",
       "      <td>5.511473e-01</td>\n",
       "      <td>1.164929e-01</td>\n",
       "    </tr>\n",
       "    <tr>\n",
       "      <th>min</th>\n",
       "      <td>1.000000e+00</td>\n",
       "      <td>1.000000e+00</td>\n",
       "      <td>1.000000e+00</td>\n",
       "      <td>0.000000e+00</td>\n",
       "      <td>1.000000e+00</td>\n",
       "      <td>1.000000e+00</td>\n",
       "      <td>0.000000e+00</td>\n",
       "      <td>1.000000e+00</td>\n",
       "      <td>1.000000e+00</td>\n",
       "      <td>0.000000e+00</td>\n",
       "    </tr>\n",
       "    <tr>\n",
       "      <th>25%</th>\n",
       "      <td>2.855432e+06</td>\n",
       "      <td>2.119461e+06</td>\n",
       "      <td>1.140000e+02</td>\n",
       "      <td>1.800000e+01</td>\n",
       "      <td>1.000000e+00</td>\n",
       "      <td>1.000000e+00</td>\n",
       "      <td>1.904000e+05</td>\n",
       "      <td>1.000000e+00</td>\n",
       "      <td>3.000000e+00</td>\n",
       "      <td>0.000000e+00</td>\n",
       "    </tr>\n",
       "    <tr>\n",
       "      <th>50%</th>\n",
       "      <td>5.712226e+06</td>\n",
       "      <td>4.161532e+06</td>\n",
       "      <td>1.590000e+02</td>\n",
       "      <td>3.900000e+01</td>\n",
       "      <td>3.000000e+00</td>\n",
       "      <td>2.000000e+00</td>\n",
       "      <td>2.872000e+05</td>\n",
       "      <td>1.000000e+00</td>\n",
       "      <td>3.000000e+00</td>\n",
       "      <td>0.000000e+00</td>\n",
       "    </tr>\n",
       "    <tr>\n",
       "      <th>75%</th>\n",
       "      <td>8.568902e+06</td>\n",
       "      <td>6.292149e+06</td>\n",
       "      <td>2.280000e+02</td>\n",
       "      <td>5.600000e+01</td>\n",
       "      <td>4.000000e+00</td>\n",
       "      <td>2.000000e+00</td>\n",
       "      <td>2.996000e+06</td>\n",
       "      <td>1.000000e+00</td>\n",
       "      <td>3.000000e+00</td>\n",
       "      <td>0.000000e+00</td>\n",
       "    </tr>\n",
       "    <tr>\n",
       "      <th>max</th>\n",
       "      <td>1.142696e+07</td>\n",
       "      <td>8.527919e+06</td>\n",
       "      <td>5.280000e+02</td>\n",
       "      <td>1.100000e+02</td>\n",
       "      <td>5.000000e+00</td>\n",
       "      <td>2.000000e+00</td>\n",
       "      <td>4.016966e+08</td>\n",
       "      <td>5.000000e+00</td>\n",
       "      <td>3.000000e+00</td>\n",
       "      <td>1.000000e+00</td>\n",
       "    </tr>\n",
       "  </tbody>\n",
       "</table>\n",
       "</div>"
      ],
      "text/plain": [
       "                 id    id_peserta         dati2          usia         pisat  \\\n",
       "count  1.140188e+07  1.140188e+07  1.140188e+07  1.140188e+07  1.140169e+07   \n",
       "mean   5.712720e+06  4.199294e+06  1.825299e+02  3.705690e+01  2.498204e+00   \n",
       "std    3.298535e+06  2.436249e+06  1.061352e+02  2.292188e+01  1.390863e+00   \n",
       "min    1.000000e+00  1.000000e+00  1.000000e+00  0.000000e+00  1.000000e+00   \n",
       "25%    2.855432e+06  2.119461e+06  1.140000e+02  1.800000e+01  1.000000e+00   \n",
       "50%    5.712226e+06  4.161532e+06  1.590000e+02  3.900000e+01  3.000000e+00   \n",
       "75%    8.568902e+06  6.292149e+06  2.280000e+02  5.600000e+01  4.000000e+00   \n",
       "max    1.142696e+07  8.527919e+06  5.280000e+02  1.100000e+02  5.000000e+00   \n",
       "\n",
       "           jenispel         biaya   jenispulang    kelasrawat         label  \n",
       "count  1.140188e+07  1.134407e+07  1.140184e+07  1.140188e+07  1.140188e+07  \n",
       "mean   1.645544e+00  2.146849e+06  1.094596e+00  2.784695e+00  1.375992e-02  \n",
       "std    4.783482e-01  5.207577e+06  5.131554e-01  5.511473e-01  1.164929e-01  \n",
       "min    1.000000e+00  0.000000e+00  1.000000e+00  1.000000e+00  0.000000e+00  \n",
       "25%    1.000000e+00  1.904000e+05  1.000000e+00  3.000000e+00  0.000000e+00  \n",
       "50%    2.000000e+00  2.872000e+05  1.000000e+00  3.000000e+00  0.000000e+00  \n",
       "75%    2.000000e+00  2.996000e+06  1.000000e+00  3.000000e+00  0.000000e+00  \n",
       "max    2.000000e+00  4.016966e+08  5.000000e+00  3.000000e+00  1.000000e+00  "
      ]
     },
     "execution_count": 11,
     "metadata": {},
     "output_type": "execute_result"
    }
   ],
   "source": [
    " df.describe()"
   ]
  },
  {
   "cell_type": "code",
   "execution_count": 12,
   "id": "61f33b00",
   "metadata": {},
   "outputs": [
    {
     "data": {
      "text/plain": [
       "<AxesSubplot:>"
      ]
     },
     "execution_count": 12,
     "metadata": {},
     "output_type": "execute_result"
    },
    {
     "data": {
      "image/png": "[encoded data removed]",
      "text/plain": [
       "<Figure size 432x288 with 1 Axes>"
      ]
     },
     "metadata": {
      "needs_background": "light"
     },
     "output_type": "display_data"
    }
   ],
   "source": [
    "df['usia'].hist(bins=25)"
   ]
  },
  {
   "cell_type": "code",
   "execution_count": 13,
   "id": "ac39a030",
   "metadata": {},
   "outputs": [
    {
     "data": {
      "text/plain": [
       "287200.0"
      ]
     },
     "execution_count": 13,
     "metadata": {},
     "output_type": "execute_result"
    }
   ],
   "source": [
    "df['biaya'].median()"
   ]
  },
  {
   "cell_type": "code",
   "execution_count": 14,
   "id": "ff5631c9",
   "metadata": {},
   "outputs": [],
   "source": [
    "counts = df.nunique()"
   ]
  },
  {
   "cell_type": "code",
   "execution_count": 15,
   "id": "00415cac",
   "metadata": {},
   "outputs": [
    {
     "data": {
      "text/plain": [
       "['dati2',\n",
       " 'typefaskes',\n",
       " 'usia',\n",
       " 'jenkel',\n",
       " 'pisat',\n",
       " 'tgldatang',\n",
       " 'tglpulang',\n",
       " 'jenispel',\n",
       " 'politujuan',\n",
       " 'diagfktp',\n",
       " 'biaya',\n",
       " 'jenispulang',\n",
       " 'cbg',\n",
       " 'kelasrawat',\n",
       " 'kdsa',\n",
       " 'kdsp',\n",
       " 'kdsr',\n",
       " 'kdsi',\n",
       " 'kdsd']"
      ]
     },
     "execution_count": 15,
     "metadata": {},
     "output_type": "execute_result"
    }
   ],
   "source": [
    "\n",
    "\n",
    "to_del = [df.columns[i] for i,v in enumerate(counts[:-1]) if (float(v)/df.shape[0]*100) < 1]\n",
    "to_del"
   ]
  },
  {
   "cell_type": "code",
   "execution_count": 16,
   "id": "42626dd7",
   "metadata": {},
   "outputs": [
    {
     "data": {
      "text/plain": [
       "Index(['id', 'id_peserta', 'dati2', 'typefaskes', 'usia', 'jenkel', 'pisat',\n",
       "       'tgldatang', 'tglpulang', 'jenispel', 'politujuan', 'diagfktp', 'biaya',\n",
       "       'jenispulang', 'cbg', 'kelasrawat', 'kdsa', 'kdsp', 'kdsr', 'kdsi',\n",
       "       'kdsd', 'label'],\n",
       "      dtype='object')"
      ]
     },
     "execution_count": 16,
     "metadata": {},
     "output_type": "execute_result"
    }
   ],
   "source": [
    "df.columns"
   ]
  },
  {
   "cell_type": "code",
   "execution_count": 17,
   "id": "99c57c54",
   "metadata": {},
   "outputs": [],
   "source": [
    "categorical = df.dtypes[df.dtypes == object]"
   ]
  },
  {
   "cell_type": "code",
   "execution_count": 18,
   "id": "9b3114be",
   "metadata": {},
   "outputs": [
    {
     "data": {
      "text/plain": [
       "Index(['typefaskes', 'jenkel', 'tgldatang', 'tglpulang', 'politujuan',\n",
       "       'diagfktp', 'cbg', 'kdsa', 'kdsp', 'kdsr', 'kdsi', 'kdsd'],\n",
       "      dtype='object')"
      ]
     },
     "execution_count": 18,
     "metadata": {},
     "output_type": "execute_result"
    }
   ],
   "source": [
    "categorical.keys()"
   ]
  },
  {
   "cell_type": "code",
   "execution_count": 19,
   "id": "54fa6276",
   "metadata": {},
   "outputs": [],
   "source": [
    "df.drop(columns=['tgldatang','tglpulang','kdsa', 'kdsp', 'kdsr', 'kdsi', 'kdsd','politujuan'],inplace=True)"
   ]
  },
  {
   "cell_type": "code",
   "execution_count": 20,
   "id": "64e9bf26",
   "metadata": {
    "scrolled": true
   },
   "outputs": [
    {
     "data": {
      "text/html": [
       "<div>\n",
       "<style scoped>\n",
       "    .dataframe tbody tr th:only-of-type {\n",
       "        vertical-align: middle;\n",
       "    }\n",
       "\n",
       "    .dataframe tbody tr th {\n",
       "        vertical-align: top;\n",
       "    }\n",
       "\n",
       "    .dataframe thead th {\n",
       "        text-align: right;\n",
       "    }\n",
       "</style>\n",
       "<table border=\"1\" class=\"dataframe\">\n",
       "  <thead>\n",
       "    <tr style=\"text-align: right;\">\n",
       "      <th></th>\n",
       "      <th>id</th>\n",
       "      <th>id_peserta</th>\n",
       "      <th>dati2</th>\n",
       "      <th>typefaskes</th>\n",
       "      <th>usia</th>\n",
       "      <th>jenkel</th>\n",
       "      <th>pisat</th>\n",
       "      <th>jenispel</th>\n",
       "      <th>diagfktp</th>\n",
       "      <th>biaya</th>\n",
       "      <th>jenispulang</th>\n",
       "      <th>cbg</th>\n",
       "      <th>kelasrawat</th>\n",
       "      <th>label</th>\n",
       "    </tr>\n",
       "  </thead>\n",
       "  <tbody>\n",
       "    <tr>\n",
       "      <th>0</th>\n",
       "      <td>165666</td>\n",
       "      <td>486</td>\n",
       "      <td>17</td>\n",
       "      <td>KL</td>\n",
       "      <td>48</td>\n",
       "      <td>P</td>\n",
       "      <td>1.0</td>\n",
       "      <td>2</td>\n",
       "      <td>L02.8</td>\n",
       "      <td>184300.0</td>\n",
       "      <td>1.0</td>\n",
       "      <td>Q-5-42-0</td>\n",
       "      <td>3</td>\n",
       "      <td>0</td>\n",
       "    </tr>\n",
       "    <tr>\n",
       "      <th>1</th>\n",
       "      <td>1010828</td>\n",
       "      <td>520</td>\n",
       "      <td>17</td>\n",
       "      <td>A</td>\n",
       "      <td>63</td>\n",
       "      <td>L</td>\n",
       "      <td>1.0</td>\n",
       "      <td>1</td>\n",
       "      <td>R23.1</td>\n",
       "      <td>10628400.0</td>\n",
       "      <td>1.0</td>\n",
       "      <td>D-4-13-III</td>\n",
       "      <td>1</td>\n",
       "      <td>0</td>\n",
       "    </tr>\n",
       "    <tr>\n",
       "      <th>2</th>\n",
       "      <td>166042</td>\n",
       "      <td>523</td>\n",
       "      <td>17</td>\n",
       "      <td>KL</td>\n",
       "      <td>53</td>\n",
       "      <td>P</td>\n",
       "      <td>1.0</td>\n",
       "      <td>2</td>\n",
       "      <td>E10.5</td>\n",
       "      <td>187300.0</td>\n",
       "      <td>1.0</td>\n",
       "      <td>Q-5-44-0</td>\n",
       "      <td>3</td>\n",
       "      <td>0</td>\n",
       "    </tr>\n",
       "    <tr>\n",
       "      <th>3</th>\n",
       "      <td>168937</td>\n",
       "      <td>549</td>\n",
       "      <td>17</td>\n",
       "      <td>KL</td>\n",
       "      <td>54</td>\n",
       "      <td>P</td>\n",
       "      <td>1.0</td>\n",
       "      <td>2</td>\n",
       "      <td>H54.2</td>\n",
       "      <td>187300.0</td>\n",
       "      <td>1.0</td>\n",
       "      <td>Q-5-44-0</td>\n",
       "      <td>3</td>\n",
       "      <td>0</td>\n",
       "    </tr>\n",
       "    <tr>\n",
       "      <th>4</th>\n",
       "      <td>1005899</td>\n",
       "      <td>549</td>\n",
       "      <td>17</td>\n",
       "      <td>A</td>\n",
       "      <td>53</td>\n",
       "      <td>P</td>\n",
       "      <td>1.0</td>\n",
       "      <td>2</td>\n",
       "      <td>M54.5</td>\n",
       "      <td>381600.0</td>\n",
       "      <td>1.0</td>\n",
       "      <td>Q-5-44-0</td>\n",
       "      <td>3</td>\n",
       "      <td>0</td>\n",
       "    </tr>\n",
       "    <tr>\n",
       "      <th>...</th>\n",
       "      <td>...</td>\n",
       "      <td>...</td>\n",
       "      <td>...</td>\n",
       "      <td>...</td>\n",
       "      <td>...</td>\n",
       "      <td>...</td>\n",
       "      <td>...</td>\n",
       "      <td>...</td>\n",
       "      <td>...</td>\n",
       "      <td>...</td>\n",
       "      <td>...</td>\n",
       "      <td>...</td>\n",
       "      <td>...</td>\n",
       "      <td>...</td>\n",
       "    </tr>\n",
       "    <tr>\n",
       "      <th>11401877</th>\n",
       "      <td>9983563</td>\n",
       "      <td>8527704</td>\n",
       "      <td>301</td>\n",
       "      <td>B</td>\n",
       "      <td>0</td>\n",
       "      <td>P</td>\n",
       "      <td>4.0</td>\n",
       "      <td>1</td>\n",
       "      <td>Z71.8</td>\n",
       "      <td>3645100.0</td>\n",
       "      <td>1.0</td>\n",
       "      <td>P-8-17-I</td>\n",
       "      <td>3</td>\n",
       "      <td>0</td>\n",
       "    </tr>\n",
       "    <tr>\n",
       "      <th>11401878</th>\n",
       "      <td>11053870</td>\n",
       "      <td>8527709</td>\n",
       "      <td>233</td>\n",
       "      <td>A</td>\n",
       "      <td>0</td>\n",
       "      <td>P</td>\n",
       "      <td>4.0</td>\n",
       "      <td>1</td>\n",
       "      <td>P59.9</td>\n",
       "      <td>12273200.0</td>\n",
       "      <td>1.0</td>\n",
       "      <td>P-8-13-II</td>\n",
       "      <td>2</td>\n",
       "      <td>0</td>\n",
       "    </tr>\n",
       "    <tr>\n",
       "      <th>11401879</th>\n",
       "      <td>7461049</td>\n",
       "      <td>8527751</td>\n",
       "      <td>118</td>\n",
       "      <td>B</td>\n",
       "      <td>0</td>\n",
       "      <td>L</td>\n",
       "      <td>4.0</td>\n",
       "      <td>1</td>\n",
       "      <td>P24.8</td>\n",
       "      <td>4099000.0</td>\n",
       "      <td>1.0</td>\n",
       "      <td>P-8-08-I</td>\n",
       "      <td>3</td>\n",
       "      <td>0</td>\n",
       "    </tr>\n",
       "    <tr>\n",
       "      <th>11401880</th>\n",
       "      <td>1075162</td>\n",
       "      <td>8527853</td>\n",
       "      <td>101</td>\n",
       "      <td>SC</td>\n",
       "      <td>0</td>\n",
       "      <td>L</td>\n",
       "      <td>5.0</td>\n",
       "      <td>1</td>\n",
       "      <td>P03</td>\n",
       "      <td>3992400.0</td>\n",
       "      <td>1.0</td>\n",
       "      <td>P-8-08-I</td>\n",
       "      <td>3</td>\n",
       "      <td>0</td>\n",
       "    </tr>\n",
       "    <tr>\n",
       "      <th>11401881</th>\n",
       "      <td>102794</td>\n",
       "      <td>8527876</td>\n",
       "      <td>12</td>\n",
       "      <td>SD</td>\n",
       "      <td>0</td>\n",
       "      <td>P</td>\n",
       "      <td>4.0</td>\n",
       "      <td>1</td>\n",
       "      <td>P21.1</td>\n",
       "      <td>1624900.0</td>\n",
       "      <td>1.0</td>\n",
       "      <td>P-8-16-I</td>\n",
       "      <td>3</td>\n",
       "      <td>0</td>\n",
       "    </tr>\n",
       "  </tbody>\n",
       "</table>\n",
       "<p>11401882 rows × 14 columns</p>\n",
       "</div>"
      ],
      "text/plain": [
       "                id  id_peserta  dati2 typefaskes  usia jenkel  pisat  \\\n",
       "0           165666         486     17         KL    48      P    1.0   \n",
       "1          1010828         520     17          A    63      L    1.0   \n",
       "2           166042         523     17         KL    53      P    1.0   \n",
       "3           168937         549     17         KL    54      P    1.0   \n",
       "4          1005899         549     17          A    53      P    1.0   \n",
       "...            ...         ...    ...        ...   ...    ...    ...   \n",
       "11401877   9983563     8527704    301          B     0      P    4.0   \n",
       "11401878  11053870     8527709    233          A     0      P    4.0   \n",
       "11401879   7461049     8527751    118          B     0      L    4.0   \n",
       "11401880   1075162     8527853    101         SC     0      L    5.0   \n",
       "11401881    102794     8527876     12         SD     0      P    4.0   \n",
       "\n",
       "          jenispel diagfktp       biaya  jenispulang         cbg  kelasrawat  \\\n",
       "0                2    L02.8    184300.0          1.0    Q-5-42-0           3   \n",
       "1                1    R23.1  10628400.0          1.0  D-4-13-III           1   \n",
       "2                2    E10.5    187300.0          1.0    Q-5-44-0           3   \n",
       "3                2    H54.2    187300.0          1.0    Q-5-44-0           3   \n",
       "4                2    M54.5    381600.0          1.0    Q-5-44-0           3   \n",
       "...            ...      ...         ...          ...         ...         ...   \n",
       "11401877         1    Z71.8   3645100.0          1.0    P-8-17-I           3   \n",
       "11401878         1    P59.9  12273200.0          1.0   P-8-13-II           2   \n",
       "11401879         1    P24.8   4099000.0          1.0    P-8-08-I           3   \n",
       "11401880         1      P03   3992400.0          1.0    P-8-08-I           3   \n",
       "11401881         1    P21.1   1624900.0          1.0    P-8-16-I           3   \n",
       "\n",
       "          label  \n",
       "0             0  \n",
       "1             0  \n",
       "2             0  \n",
       "3             0  \n",
       "4             0  \n",
       "...         ...  \n",
       "11401877      0  \n",
       "11401878      0  \n",
       "11401879      0  \n",
       "11401880      0  \n",
       "11401881      0  \n",
       "\n",
       "[11401882 rows x 14 columns]"
      ]
     },
     "execution_count": 20,
     "metadata": {},
     "output_type": "execute_result"
    }
   ],
   "source": [
    "df"
   ]
  },
  {
   "cell_type": "code",
   "execution_count": 21,
   "id": "e87449a7",
   "metadata": {},
   "outputs": [
    {
     "data": {
      "text/plain": [
       "Index(['typefaskes', 'jenkel', 'diagfktp', 'cbg'], dtype='object')"
      ]
     },
     "execution_count": 21,
     "metadata": {},
     "output_type": "execute_result"
    }
   ],
   "source": [
    "categorical = df.dtypes[df.dtypes == object]\n",
    "categorical.keys()"
   ]
  },
  {
   "cell_type": "code",
   "execution_count": 22,
   "id": "171f243d",
   "metadata": {},
   "outputs": [],
   "source": [
    "from pandas import read_csv\n",
    "from sklearn.model_selection import train_test_split\n",
    "from sklearn.preprocessing import LabelEncoder\n",
    "from sklearn.preprocessing import OrdinalEncoder\n",
    "from sklearn.impute import SimpleImputer\n"
   ]
  },
  {
   "cell_type": "code",
   "execution_count": 23,
   "id": "1bda68bf",
   "metadata": {},
   "outputs": [],
   "source": [
    "\n",
    "# prepare input data\n",
    "def prepare_inputs(X_train, X_test):\n",
    "    oe = OrdinalEncoder()\n",
    "    oe.fit(X_train)\n",
    "    X_train_enc = oe.transform(X_train)\n",
    "    X_test_enc = oe.transform(X_test)\n",
    "    return X_train_enc, X_test_enc\n",
    "\n",
    "# prepare target\n",
    "def prepare_targets(y_train, y_test):\n",
    "    le = LabelEncoder()\n",
    "    le.fit(y_train)\n",
    "    y_train_enc = le.transform(y_train)\n",
    "    y_test_enc = le.transform(y_test)\n",
    "    return y_train_enc, y_test_enc"
   ]
  },
  {
   "cell_type": "code",
   "execution_count": 24,
   "id": "a1fd38ed",
   "metadata": {},
   "outputs": [],
   "source": [
    "dataset= df.values\n",
    "X = dataset[:,:-1]\n",
    "y = dataset[:,-1]\n",
    "\n",
    "oe = OrdinalEncoder()\n",
    "\n",
    "\n",
    "# X_train_enc, X_test_enc = prepare_inputs(X_train, X_test)\n",
    "# # prepare output data\n",
    "# y_train_enc, y_test_enc = prepare_targets(y_train, y_test)\n"
   ]
  },
  {
   "cell_type": "code",
   "execution_count": 25,
   "id": "46bf53a3",
   "metadata": {
    "scrolled": true
   },
   "outputs": [
    {
     "data": {
      "text/html": [
       "<div>\n",
       "<style scoped>\n",
       "    .dataframe tbody tr th:only-of-type {\n",
       "        vertical-align: middle;\n",
       "    }\n",
       "\n",
       "    .dataframe tbody tr th {\n",
       "        vertical-align: top;\n",
       "    }\n",
       "\n",
       "    .dataframe thead th {\n",
       "        text-align: right;\n",
       "    }\n",
       "</style>\n",
       "<table border=\"1\" class=\"dataframe\">\n",
       "  <thead>\n",
       "    <tr style=\"text-align: right;\">\n",
       "      <th></th>\n",
       "      <th>id</th>\n",
       "      <th>id_peserta</th>\n",
       "      <th>dati2</th>\n",
       "      <th>typefaskes</th>\n",
       "      <th>usia</th>\n",
       "      <th>jenkel</th>\n",
       "      <th>pisat</th>\n",
       "      <th>jenispel</th>\n",
       "      <th>diagfktp</th>\n",
       "      <th>biaya</th>\n",
       "      <th>jenispulang</th>\n",
       "      <th>cbg</th>\n",
       "      <th>kelasrawat</th>\n",
       "      <th>label</th>\n",
       "    </tr>\n",
       "  </thead>\n",
       "  <tbody>\n",
       "    <tr>\n",
       "      <th>0</th>\n",
       "      <td>165666</td>\n",
       "      <td>486</td>\n",
       "      <td>17</td>\n",
       "      <td>16</td>\n",
       "      <td>48</td>\n",
       "      <td>1</td>\n",
       "      <td>1.0</td>\n",
       "      <td>2</td>\n",
       "      <td>5472</td>\n",
       "      <td>184300.0</td>\n",
       "      <td>1.0</td>\n",
       "      <td>825</td>\n",
       "      <td>3</td>\n",
       "      <td>0</td>\n",
       "    </tr>\n",
       "    <tr>\n",
       "      <th>1</th>\n",
       "      <td>1010828</td>\n",
       "      <td>520</td>\n",
       "      <td>17</td>\n",
       "      <td>0</td>\n",
       "      <td>63</td>\n",
       "      <td>0</td>\n",
       "      <td>1.0</td>\n",
       "      <td>1</td>\n",
       "      <td>11656</td>\n",
       "      <td>10628400.0</td>\n",
       "      <td>1.0</td>\n",
       "      <td>106</td>\n",
       "      <td>1</td>\n",
       "      <td>0</td>\n",
       "    </tr>\n",
       "    <tr>\n",
       "      <th>2</th>\n",
       "      <td>166042</td>\n",
       "      <td>523</td>\n",
       "      <td>17</td>\n",
       "      <td>16</td>\n",
       "      <td>53</td>\n",
       "      <td>1</td>\n",
       "      <td>1.0</td>\n",
       "      <td>2</td>\n",
       "      <td>2210</td>\n",
       "      <td>187300.0</td>\n",
       "      <td>1.0</td>\n",
       "      <td>827</td>\n",
       "      <td>3</td>\n",
       "      <td>0</td>\n",
       "    </tr>\n",
       "    <tr>\n",
       "      <th>3</th>\n",
       "      <td>168937</td>\n",
       "      <td>549</td>\n",
       "      <td>17</td>\n",
       "      <td>16</td>\n",
       "      <td>54</td>\n",
       "      <td>1</td>\n",
       "      <td>1.0</td>\n",
       "      <td>2</td>\n",
       "      <td>3877</td>\n",
       "      <td>187300.0</td>\n",
       "      <td>1.0</td>\n",
       "      <td>827</td>\n",
       "      <td>3</td>\n",
       "      <td>0</td>\n",
       "    </tr>\n",
       "    <tr>\n",
       "      <th>4</th>\n",
       "      <td>1005899</td>\n",
       "      <td>549</td>\n",
       "      <td>17</td>\n",
       "      <td>0</td>\n",
       "      <td>53</td>\n",
       "      <td>1</td>\n",
       "      <td>1.0</td>\n",
       "      <td>2</td>\n",
       "      <td>7637</td>\n",
       "      <td>381600.0</td>\n",
       "      <td>1.0</td>\n",
       "      <td>827</td>\n",
       "      <td>3</td>\n",
       "      <td>0</td>\n",
       "    </tr>\n",
       "    <tr>\n",
       "      <th>...</th>\n",
       "      <td>...</td>\n",
       "      <td>...</td>\n",
       "      <td>...</td>\n",
       "      <td>...</td>\n",
       "      <td>...</td>\n",
       "      <td>...</td>\n",
       "      <td>...</td>\n",
       "      <td>...</td>\n",
       "      <td>...</td>\n",
       "      <td>...</td>\n",
       "      <td>...</td>\n",
       "      <td>...</td>\n",
       "      <td>...</td>\n",
       "      <td>...</td>\n",
       "    </tr>\n",
       "    <tr>\n",
       "      <th>11401877</th>\n",
       "      <td>9983563</td>\n",
       "      <td>8527704</td>\n",
       "      <td>301</td>\n",
       "      <td>1</td>\n",
       "      <td>0</td>\n",
       "      <td>1</td>\n",
       "      <td>4.0</td>\n",
       "      <td>1</td>\n",
       "      <td>15143</td>\n",
       "      <td>3645100.0</td>\n",
       "      <td>1.0</td>\n",
       "      <td>783</td>\n",
       "      <td>3</td>\n",
       "      <td>0</td>\n",
       "    </tr>\n",
       "    <tr>\n",
       "      <th>11401878</th>\n",
       "      <td>11053870</td>\n",
       "      <td>8527709</td>\n",
       "      <td>233</td>\n",
       "      <td>0</td>\n",
       "      <td>0</td>\n",
       "      <td>1</td>\n",
       "      <td>4.0</td>\n",
       "      <td>1</td>\n",
       "      <td>10671</td>\n",
       "      <td>12273200.0</td>\n",
       "      <td>1.0</td>\n",
       "      <td>772</td>\n",
       "      <td>2</td>\n",
       "      <td>0</td>\n",
       "    </tr>\n",
       "    <tr>\n",
       "      <th>11401879</th>\n",
       "      <td>7461049</td>\n",
       "      <td>8527751</td>\n",
       "      <td>118</td>\n",
       "      <td>1</td>\n",
       "      <td>0</td>\n",
       "      <td>0</td>\n",
       "      <td>4.0</td>\n",
       "      <td>1</td>\n",
       "      <td>10540</td>\n",
       "      <td>4099000.0</td>\n",
       "      <td>1.0</td>\n",
       "      <td>762</td>\n",
       "      <td>3</td>\n",
       "      <td>0</td>\n",
       "    </tr>\n",
       "    <tr>\n",
       "      <th>11401880</th>\n",
       "      <td>1075162</td>\n",
       "      <td>8527853</td>\n",
       "      <td>101</td>\n",
       "      <td>24</td>\n",
       "      <td>0</td>\n",
       "      <td>0</td>\n",
       "      <td>5.0</td>\n",
       "      <td>1</td>\n",
       "      <td>10421</td>\n",
       "      <td>3992400.0</td>\n",
       "      <td>1.0</td>\n",
       "      <td>762</td>\n",
       "      <td>3</td>\n",
       "      <td>0</td>\n",
       "    </tr>\n",
       "    <tr>\n",
       "      <th>11401881</th>\n",
       "      <td>102794</td>\n",
       "      <td>8527876</td>\n",
       "      <td>12</td>\n",
       "      <td>25</td>\n",
       "      <td>0</td>\n",
       "      <td>1</td>\n",
       "      <td>4.0</td>\n",
       "      <td>1</td>\n",
       "      <td>10515</td>\n",
       "      <td>1624900.0</td>\n",
       "      <td>1.0</td>\n",
       "      <td>780</td>\n",
       "      <td>3</td>\n",
       "      <td>0</td>\n",
       "    </tr>\n",
       "  </tbody>\n",
       "</table>\n",
       "<p>11401882 rows × 14 columns</p>\n",
       "</div>"
      ],
      "text/plain": [
       "                id  id_peserta  dati2  typefaskes  usia  jenkel  pisat  \\\n",
       "0           165666         486     17          16    48       1    1.0   \n",
       "1          1010828         520     17           0    63       0    1.0   \n",
       "2           166042         523     17          16    53       1    1.0   \n",
       "3           168937         549     17          16    54       1    1.0   \n",
       "4          1005899         549     17           0    53       1    1.0   \n",
       "...            ...         ...    ...         ...   ...     ...    ...   \n",
       "11401877   9983563     8527704    301           1     0       1    4.0   \n",
       "11401878  11053870     8527709    233           0     0       1    4.0   \n",
       "11401879   7461049     8527751    118           1     0       0    4.0   \n",
       "11401880   1075162     8527853    101          24     0       0    5.0   \n",
       "11401881    102794     8527876     12          25     0       1    4.0   \n",
       "\n",
       "          jenispel  diagfktp       biaya  jenispulang  cbg  kelasrawat  label  \n",
       "0                2      5472    184300.0          1.0  825           3      0  \n",
       "1                1     11656  10628400.0          1.0  106           1      0  \n",
       "2                2      2210    187300.0          1.0  827           3      0  \n",
       "3                2      3877    187300.0          1.0  827           3      0  \n",
       "4                2      7637    381600.0          1.0  827           3      0  \n",
       "...            ...       ...         ...          ...  ...         ...    ...  \n",
       "11401877         1     15143   3645100.0          1.0  783           3      0  \n",
       "11401878         1     10671  12273200.0          1.0  772           2      0  \n",
       "11401879         1     10540   4099000.0          1.0  762           3      0  \n",
       "11401880         1     10421   3992400.0          1.0  762           3      0  \n",
       "11401881         1     10515   1624900.0          1.0  780           3      0  \n",
       "\n",
       "[11401882 rows x 14 columns]"
      ]
     },
     "execution_count": 25,
     "metadata": {},
     "output_type": "execute_result"
    }
   ],
   "source": [
    "from sklearn.preprocessing import LabelEncoder\n",
    "lb = LabelEncoder()\n",
    "categorical = ['typefaskes', 'jenkel', 'diagfktp', 'cbg']\n",
    "for col in categorical:\n",
    "    df[col] = lb.fit_transform(df[col])\n",
    "df"
   ]
  },
  {
   "cell_type": "code",
   "execution_count": null,
   "id": "e63bfa1a",
   "metadata": {},
   "outputs": [],
   "source": []
  },
  {
   "cell_type": "code",
   "execution_count": 31,
   "id": "37aa3e44",
   "metadata": {
    "scrolled": true
   },
   "outputs": [
    {
     "data": {
      "text/plain": [
       "id             0\n",
       "id_peserta     0\n",
       "dati2          0\n",
       "typefaskes     0\n",
       "usia           0\n",
       "jenkel         0\n",
       "pisat          0\n",
       "jenispel       0\n",
       "diagfktp       0\n",
       "biaya          0\n",
       "jenispulang    0\n",
       "kelasrawat     0\n",
       "label          0\n",
       "dtype: int64"
      ]
     },
     "execution_count": 31,
     "metadata": {},
     "output_type": "execute_result"
    }
   ],
   "source": [
    "df.isnull().sum()"
   ]
  },
  {
   "cell_type": "code",
   "execution_count": 32,
   "id": "a8a14cb7",
   "metadata": {},
   "outputs": [
    {
     "data": {
      "text/html": [
       "<div>\n",
       "<style scoped>\n",
       "    .dataframe tbody tr th:only-of-type {\n",
       "        vertical-align: middle;\n",
       "    }\n",
       "\n",
       "    .dataframe tbody tr th {\n",
       "        vertical-align: top;\n",
       "    }\n",
       "\n",
       "    .dataframe thead th {\n",
       "        text-align: right;\n",
       "    }\n",
       "</style>\n",
       "<table border=\"1\" class=\"dataframe\">\n",
       "  <thead>\n",
       "    <tr style=\"text-align: right;\">\n",
       "      <th></th>\n",
       "      <th>id</th>\n",
       "      <th>id_peserta</th>\n",
       "      <th>dati2</th>\n",
       "      <th>typefaskes</th>\n",
       "      <th>usia</th>\n",
       "      <th>jenkel</th>\n",
       "      <th>pisat</th>\n",
       "      <th>jenispel</th>\n",
       "      <th>diagfktp</th>\n",
       "      <th>biaya</th>\n",
       "      <th>jenispulang</th>\n",
       "      <th>kelasrawat</th>\n",
       "      <th>label</th>\n",
       "    </tr>\n",
       "  </thead>\n",
       "  <tbody>\n",
       "    <tr>\n",
       "      <th>0</th>\n",
       "      <td>165666</td>\n",
       "      <td>486</td>\n",
       "      <td>17</td>\n",
       "      <td>16</td>\n",
       "      <td>48</td>\n",
       "      <td>1</td>\n",
       "      <td>1.0</td>\n",
       "      <td>2</td>\n",
       "      <td>5472</td>\n",
       "      <td>184300.0</td>\n",
       "      <td>1.0</td>\n",
       "      <td>3</td>\n",
       "      <td>0</td>\n",
       "    </tr>\n",
       "    <tr>\n",
       "      <th>1</th>\n",
       "      <td>1010828</td>\n",
       "      <td>520</td>\n",
       "      <td>17</td>\n",
       "      <td>0</td>\n",
       "      <td>63</td>\n",
       "      <td>0</td>\n",
       "      <td>1.0</td>\n",
       "      <td>1</td>\n",
       "      <td>11656</td>\n",
       "      <td>10628400.0</td>\n",
       "      <td>1.0</td>\n",
       "      <td>1</td>\n",
       "      <td>0</td>\n",
       "    </tr>\n",
       "    <tr>\n",
       "      <th>2</th>\n",
       "      <td>166042</td>\n",
       "      <td>523</td>\n",
       "      <td>17</td>\n",
       "      <td>16</td>\n",
       "      <td>53</td>\n",
       "      <td>1</td>\n",
       "      <td>1.0</td>\n",
       "      <td>2</td>\n",
       "      <td>2210</td>\n",
       "      <td>187300.0</td>\n",
       "      <td>1.0</td>\n",
       "      <td>3</td>\n",
       "      <td>0</td>\n",
       "    </tr>\n",
       "    <tr>\n",
       "      <th>3</th>\n",
       "      <td>168937</td>\n",
       "      <td>549</td>\n",
       "      <td>17</td>\n",
       "      <td>16</td>\n",
       "      <td>54</td>\n",
       "      <td>1</td>\n",
       "      <td>1.0</td>\n",
       "      <td>2</td>\n",
       "      <td>3877</td>\n",
       "      <td>187300.0</td>\n",
       "      <td>1.0</td>\n",
       "      <td>3</td>\n",
       "      <td>0</td>\n",
       "    </tr>\n",
       "    <tr>\n",
       "      <th>4</th>\n",
       "      <td>1005899</td>\n",
       "      <td>549</td>\n",
       "      <td>17</td>\n",
       "      <td>0</td>\n",
       "      <td>53</td>\n",
       "      <td>1</td>\n",
       "      <td>1.0</td>\n",
       "      <td>2</td>\n",
       "      <td>7637</td>\n",
       "      <td>381600.0</td>\n",
       "      <td>1.0</td>\n",
       "      <td>3</td>\n",
       "      <td>0</td>\n",
       "    </tr>\n",
       "    <tr>\n",
       "      <th>...</th>\n",
       "      <td>...</td>\n",
       "      <td>...</td>\n",
       "      <td>...</td>\n",
       "      <td>...</td>\n",
       "      <td>...</td>\n",
       "      <td>...</td>\n",
       "      <td>...</td>\n",
       "      <td>...</td>\n",
       "      <td>...</td>\n",
       "      <td>...</td>\n",
       "      <td>...</td>\n",
       "      <td>...</td>\n",
       "      <td>...</td>\n",
       "    </tr>\n",
       "    <tr>\n",
       "      <th>11401877</th>\n",
       "      <td>9983563</td>\n",
       "      <td>8527704</td>\n",
       "      <td>301</td>\n",
       "      <td>1</td>\n",
       "      <td>0</td>\n",
       "      <td>1</td>\n",
       "      <td>4.0</td>\n",
       "      <td>1</td>\n",
       "      <td>15143</td>\n",
       "      <td>3645100.0</td>\n",
       "      <td>1.0</td>\n",
       "      <td>3</td>\n",
       "      <td>0</td>\n",
       "    </tr>\n",
       "    <tr>\n",
       "      <th>11401878</th>\n",
       "      <td>11053870</td>\n",
       "      <td>8527709</td>\n",
       "      <td>233</td>\n",
       "      <td>0</td>\n",
       "      <td>0</td>\n",
       "      <td>1</td>\n",
       "      <td>4.0</td>\n",
       "      <td>1</td>\n",
       "      <td>10671</td>\n",
       "      <td>12273200.0</td>\n",
       "      <td>1.0</td>\n",
       "      <td>2</td>\n",
       "      <td>0</td>\n",
       "    </tr>\n",
       "    <tr>\n",
       "      <th>11401879</th>\n",
       "      <td>7461049</td>\n",
       "      <td>8527751</td>\n",
       "      <td>118</td>\n",
       "      <td>1</td>\n",
       "      <td>0</td>\n",
       "      <td>0</td>\n",
       "      <td>4.0</td>\n",
       "      <td>1</td>\n",
       "      <td>10540</td>\n",
       "      <td>4099000.0</td>\n",
       "      <td>1.0</td>\n",
       "      <td>3</td>\n",
       "      <td>0</td>\n",
       "    </tr>\n",
       "    <tr>\n",
       "      <th>11401880</th>\n",
       "      <td>1075162</td>\n",
       "      <td>8527853</td>\n",
       "      <td>101</td>\n",
       "      <td>24</td>\n",
       "      <td>0</td>\n",
       "      <td>0</td>\n",
       "      <td>5.0</td>\n",
       "      <td>1</td>\n",
       "      <td>10421</td>\n",
       "      <td>3992400.0</td>\n",
       "      <td>1.0</td>\n",
       "      <td>3</td>\n",
       "      <td>0</td>\n",
       "    </tr>\n",
       "    <tr>\n",
       "      <th>11401881</th>\n",
       "      <td>102794</td>\n",
       "      <td>8527876</td>\n",
       "      <td>12</td>\n",
       "      <td>25</td>\n",
       "      <td>0</td>\n",
       "      <td>1</td>\n",
       "      <td>4.0</td>\n",
       "      <td>1</td>\n",
       "      <td>10515</td>\n",
       "      <td>1624900.0</td>\n",
       "      <td>1.0</td>\n",
       "      <td>3</td>\n",
       "      <td>0</td>\n",
       "    </tr>\n",
       "  </tbody>\n",
       "</table>\n",
       "<p>11401882 rows × 13 columns</p>\n",
       "</div>"
      ],
      "text/plain": [
       "                id  id_peserta  dati2  typefaskes  usia  jenkel  pisat  \\\n",
       "0           165666         486     17          16    48       1    1.0   \n",
       "1          1010828         520     17           0    63       0    1.0   \n",
       "2           166042         523     17          16    53       1    1.0   \n",
       "3           168937         549     17          16    54       1    1.0   \n",
       "4          1005899         549     17           0    53       1    1.0   \n",
       "...            ...         ...    ...         ...   ...     ...    ...   \n",
       "11401877   9983563     8527704    301           1     0       1    4.0   \n",
       "11401878  11053870     8527709    233           0     0       1    4.0   \n",
       "11401879   7461049     8527751    118           1     0       0    4.0   \n",
       "11401880   1075162     8527853    101          24     0       0    5.0   \n",
       "11401881    102794     8527876     12          25     0       1    4.0   \n",
       "\n",
       "          jenispel  diagfktp       biaya  jenispulang  kelasrawat  label  \n",
       "0                2      5472    184300.0          1.0           3      0  \n",
       "1                1     11656  10628400.0          1.0           1      0  \n",
       "2                2      2210    187300.0          1.0           3      0  \n",
       "3                2      3877    187300.0          1.0           3      0  \n",
       "4                2      7637    381600.0          1.0           3      0  \n",
       "...            ...       ...         ...          ...         ...    ...  \n",
       "11401877         1     15143   3645100.0          1.0           3      0  \n",
       "11401878         1     10671  12273200.0          1.0           2      0  \n",
       "11401879         1     10540   4099000.0          1.0           3      0  \n",
       "11401880         1     10421   3992400.0          1.0           3      0  \n",
       "11401881         1     10515   1624900.0          1.0           3      0  \n",
       "\n",
       "[11401882 rows x 13 columns]"
      ]
     },
     "execution_count": 32,
     "metadata": {},
     "output_type": "execute_result"
    }
   ],
   "source": [
    "imp_mean = SimpleImputer(missing_values=np.nan, strategy='median')\n",
    "df.pisat = imp_mean.fit_transform(df[['pisat']])\n",
    "df.biaya = imp_mean.fit_transform(df[['biaya']])\n",
    "df.jenispulang = imp_mean.fit_transform(df[['jenispulang']])\n",
    "df"
   ]
  },
  {
   "cell_type": "code",
   "execution_count": 28,
   "id": "e3437af8",
   "metadata": {
    "scrolled": true
   },
   "outputs": [
    {
     "name": "stdout",
     "output_type": "stream",
     "text": [
      "11244993 156889\n"
     ]
    }
   ],
   "source": [
    "print(y.tolist().count(0),y.tolist().count(1))"
   ]
  },
  {
   "cell_type": "code",
   "execution_count": 34,
   "id": "f08f8c84",
   "metadata": {},
   "outputs": [],
   "source": [
    "df.drop(columns=['id','id_peserta'],inplace=True)"
   ]
  },
  {
   "cell_type": "code",
   "execution_count": 35,
   "id": "19ec97c1",
   "metadata": {},
   "outputs": [
    {
     "data": {
      "text/html": [
       "<div>\n",
       "<style scoped>\n",
       "    .dataframe tbody tr th:only-of-type {\n",
       "        vertical-align: middle;\n",
       "    }\n",
       "\n",
       "    .dataframe tbody tr th {\n",
       "        vertical-align: top;\n",
       "    }\n",
       "\n",
       "    .dataframe thead th {\n",
       "        text-align: right;\n",
       "    }\n",
       "</style>\n",
       "<table border=\"1\" class=\"dataframe\">\n",
       "  <thead>\n",
       "    <tr style=\"text-align: right;\">\n",
       "      <th></th>\n",
       "      <th>dati2</th>\n",
       "      <th>typefaskes</th>\n",
       "      <th>usia</th>\n",
       "      <th>jenkel</th>\n",
       "      <th>pisat</th>\n",
       "      <th>jenispel</th>\n",
       "      <th>diagfktp</th>\n",
       "      <th>biaya</th>\n",
       "      <th>jenispulang</th>\n",
       "      <th>kelasrawat</th>\n",
       "      <th>label</th>\n",
       "    </tr>\n",
       "  </thead>\n",
       "  <tbody>\n",
       "    <tr>\n",
       "      <th>0</th>\n",
       "      <td>17</td>\n",
       "      <td>16</td>\n",
       "      <td>48</td>\n",
       "      <td>1</td>\n",
       "      <td>1.0</td>\n",
       "      <td>2</td>\n",
       "      <td>5472</td>\n",
       "      <td>184300.0</td>\n",
       "      <td>1.0</td>\n",
       "      <td>3</td>\n",
       "      <td>0</td>\n",
       "    </tr>\n",
       "    <tr>\n",
       "      <th>1</th>\n",
       "      <td>17</td>\n",
       "      <td>0</td>\n",
       "      <td>63</td>\n",
       "      <td>0</td>\n",
       "      <td>1.0</td>\n",
       "      <td>1</td>\n",
       "      <td>11656</td>\n",
       "      <td>10628400.0</td>\n",
       "      <td>1.0</td>\n",
       "      <td>1</td>\n",
       "      <td>0</td>\n",
       "    </tr>\n",
       "    <tr>\n",
       "      <th>2</th>\n",
       "      <td>17</td>\n",
       "      <td>16</td>\n",
       "      <td>53</td>\n",
       "      <td>1</td>\n",
       "      <td>1.0</td>\n",
       "      <td>2</td>\n",
       "      <td>2210</td>\n",
       "      <td>187300.0</td>\n",
       "      <td>1.0</td>\n",
       "      <td>3</td>\n",
       "      <td>0</td>\n",
       "    </tr>\n",
       "    <tr>\n",
       "      <th>3</th>\n",
       "      <td>17</td>\n",
       "      <td>16</td>\n",
       "      <td>54</td>\n",
       "      <td>1</td>\n",
       "      <td>1.0</td>\n",
       "      <td>2</td>\n",
       "      <td>3877</td>\n",
       "      <td>187300.0</td>\n",
       "      <td>1.0</td>\n",
       "      <td>3</td>\n",
       "      <td>0</td>\n",
       "    </tr>\n",
       "    <tr>\n",
       "      <th>4</th>\n",
       "      <td>17</td>\n",
       "      <td>0</td>\n",
       "      <td>53</td>\n",
       "      <td>1</td>\n",
       "      <td>1.0</td>\n",
       "      <td>2</td>\n",
       "      <td>7637</td>\n",
       "      <td>381600.0</td>\n",
       "      <td>1.0</td>\n",
       "      <td>3</td>\n",
       "      <td>0</td>\n",
       "    </tr>\n",
       "    <tr>\n",
       "      <th>...</th>\n",
       "      <td>...</td>\n",
       "      <td>...</td>\n",
       "      <td>...</td>\n",
       "      <td>...</td>\n",
       "      <td>...</td>\n",
       "      <td>...</td>\n",
       "      <td>...</td>\n",
       "      <td>...</td>\n",
       "      <td>...</td>\n",
       "      <td>...</td>\n",
       "      <td>...</td>\n",
       "    </tr>\n",
       "    <tr>\n",
       "      <th>11401877</th>\n",
       "      <td>301</td>\n",
       "      <td>1</td>\n",
       "      <td>0</td>\n",
       "      <td>1</td>\n",
       "      <td>4.0</td>\n",
       "      <td>1</td>\n",
       "      <td>15143</td>\n",
       "      <td>3645100.0</td>\n",
       "      <td>1.0</td>\n",
       "      <td>3</td>\n",
       "      <td>0</td>\n",
       "    </tr>\n",
       "    <tr>\n",
       "      <th>11401878</th>\n",
       "      <td>233</td>\n",
       "      <td>0</td>\n",
       "      <td>0</td>\n",
       "      <td>1</td>\n",
       "      <td>4.0</td>\n",
       "      <td>1</td>\n",
       "      <td>10671</td>\n",
       "      <td>12273200.0</td>\n",
       "      <td>1.0</td>\n",
       "      <td>2</td>\n",
       "      <td>0</td>\n",
       "    </tr>\n",
       "    <tr>\n",
       "      <th>11401879</th>\n",
       "      <td>118</td>\n",
       "      <td>1</td>\n",
       "      <td>0</td>\n",
       "      <td>0</td>\n",
       "      <td>4.0</td>\n",
       "      <td>1</td>\n",
       "      <td>10540</td>\n",
       "      <td>4099000.0</td>\n",
       "      <td>1.0</td>\n",
       "      <td>3</td>\n",
       "      <td>0</td>\n",
       "    </tr>\n",
       "    <tr>\n",
       "      <th>11401880</th>\n",
       "      <td>101</td>\n",
       "      <td>24</td>\n",
       "      <td>0</td>\n",
       "      <td>0</td>\n",
       "      <td>5.0</td>\n",
       "      <td>1</td>\n",
       "      <td>10421</td>\n",
       "      <td>3992400.0</td>\n",
       "      <td>1.0</td>\n",
       "      <td>3</td>\n",
       "      <td>0</td>\n",
       "    </tr>\n",
       "    <tr>\n",
       "      <th>11401881</th>\n",
       "      <td>12</td>\n",
       "      <td>25</td>\n",
       "      <td>0</td>\n",
       "      <td>1</td>\n",
       "      <td>4.0</td>\n",
       "      <td>1</td>\n",
       "      <td>10515</td>\n",
       "      <td>1624900.0</td>\n",
       "      <td>1.0</td>\n",
       "      <td>3</td>\n",
       "      <td>0</td>\n",
       "    </tr>\n",
       "  </tbody>\n",
       "</table>\n",
       "<p>11401882 rows × 11 columns</p>\n",
       "</div>"
      ],
      "text/plain": [
       "          dati2  typefaskes  usia  jenkel  pisat  jenispel  diagfktp  \\\n",
       "0            17          16    48       1    1.0         2      5472   \n",
       "1            17           0    63       0    1.0         1     11656   \n",
       "2            17          16    53       1    1.0         2      2210   \n",
       "3            17          16    54       1    1.0         2      3877   \n",
       "4            17           0    53       1    1.0         2      7637   \n",
       "...         ...         ...   ...     ...    ...       ...       ...   \n",
       "11401877    301           1     0       1    4.0         1     15143   \n",
       "11401878    233           0     0       1    4.0         1     10671   \n",
       "11401879    118           1     0       0    4.0         1     10540   \n",
       "11401880    101          24     0       0    5.0         1     10421   \n",
       "11401881     12          25     0       1    4.0         1     10515   \n",
       "\n",
       "               biaya  jenispulang  kelasrawat  label  \n",
       "0           184300.0          1.0           3      0  \n",
       "1         10628400.0          1.0           1      0  \n",
       "2           187300.0          1.0           3      0  \n",
       "3           187300.0          1.0           3      0  \n",
       "4           381600.0          1.0           3      0  \n",
       "...              ...          ...         ...    ...  \n",
       "11401877   3645100.0          1.0           3      0  \n",
       "11401878  12273200.0          1.0           2      0  \n",
       "11401879   4099000.0          1.0           3      0  \n",
       "11401880   3992400.0          1.0           3      0  \n",
       "11401881   1624900.0          1.0           3      0  \n",
       "\n",
       "[11401882 rows x 11 columns]"
      ]
     },
     "execution_count": 35,
     "metadata": {},
     "output_type": "execute_result"
    }
   ],
   "source": [
    "df"
   ]
  },
  {
   "cell_type": "code",
   "execution_count": 43,
   "id": "bed74a51",
   "metadata": {},
   "outputs": [],
   "source": [
    "dataset= df.values\n",
    "X_ = dataset[:,:-1]\n",
    "y_ = dataset[:,-1]\n",
    "X_train, X_test, y_train, y_test = train_test_split(X_,y_, test_size=0.999, random_state=1, stratify=y_)"
   ]
  },
  {
   "cell_type": "code",
   "execution_count": 44,
   "id": "0d221e78",
   "metadata": {},
   "outputs": [
    {
     "name": "stdout",
     "output_type": "stream",
     "text": [
      "(22488, 10) (22488,)\n"
     ]
    }
   ],
   "source": [
    "smoter =  SMOTE(random_state=0)\n",
    "X_train,y_train=smoter.fit_resample(X_train, y_train)\n",
    "print(X_train.shape,y_train.shape)"
   ]
  },
  {
   "cell_type": "code",
   "execution_count": 46,
   "id": "362b4721",
   "metadata": {},
   "outputs": [],
   "source": [
    "import matplotlib.pyplot as plt\n",
    "import numpy as np\n",
    "from sklearn.linear_model import LogisticRegression\n",
    "from sklearn.metrics import classification_report, confusion_matrix"
   ]
  },
  {
   "cell_type": "code",
   "execution_count": 39,
   "id": "63b42c35",
   "metadata": {},
   "outputs": [],
   "source": [
    "model = LogisticRegression(solver='liblinear', random_state=0)\n"
   ]
  },
  {
   "cell_type": "code",
   "execution_count": 40,
   "id": "991efe6d",
   "metadata": {},
   "outputs": [
    {
     "data": {
      "text/html": [
       "<style>#sk-container-id-2 {color: black;background-color: white;}#sk-container-id-2 pre{padding: 0;}#sk-container-id-2 div.sk-toggleable {background-color: white;}#sk-container-id-2 label.sk-toggleable__label {cursor: pointer;display: block;width: 100%;margin-bottom: 0;padding: 0.3em;box-sizing: border-box;text-align: center;}#sk-container-id-2 label.sk-toggleable__label-arrow:before {content: \"▸\";float: left;margin-right: 0.25em;color: #696969;}#sk-container-id-2 label.sk-toggleable__label-arrow:hover:before {color: black;}#sk-container-id-2 div.sk-estimator:hover label.sk-toggleable__label-arrow:before {color: black;}#sk-container-id-2 div.sk-toggleable__content {max-height: 0;max-width: 0;overflow: hidden;text-align: left;background-color: #f0f8ff;}#sk-container-id-2 div.sk-toggleable__content pre {margin: 0.2em;color: black;border-radius: 0.25em;background-color: #f0f8ff;}#sk-container-id-2 input.sk-toggleable__control:checked~div.sk-toggleable__content {max-height: 200px;max-width: 100%;overflow: auto;}#sk-container-id-2 input.sk-toggleable__control:checked~label.sk-toggleable__label-arrow:before {content: \"▾\";}#sk-container-id-2 div.sk-estimator input.sk-toggleable__control:checked~label.sk-toggleable__label {background-color: #d4ebff;}#sk-container-id-2 div.sk-label input.sk-toggleable__control:checked~label.sk-toggleable__label {background-color: #d4ebff;}#sk-container-id-2 input.sk-hidden--visually {border: 0;clip: rect(1px 1px 1px 1px);clip: rect(1px, 1px, 1px, 1px);height: 1px;margin: -1px;overflow: hidden;padding: 0;position: absolute;width: 1px;}#sk-container-id-2 div.sk-estimator {font-family: monospace;background-color: #f0f8ff;border: 1px dotted black;border-radius: 0.25em;box-sizing: border-box;margin-bottom: 0.5em;}#sk-container-id-2 div.sk-estimator:hover {background-color: #d4ebff;}#sk-container-id-2 div.sk-parallel-item::after {content: \"\";width: 100%;border-bottom: 1px solid gray;flex-grow: 1;}#sk-container-id-2 div.sk-label:hover label.sk-toggleable__label {background-color: #d4ebff;}#sk-container-id-2 div.sk-serial::before {content: \"\";position: absolute;border-left: 1px solid gray;box-sizing: border-box;top: 0;bottom: 0;left: 50%;z-index: 0;}#sk-container-id-2 div.sk-serial {display: flex;flex-direction: column;align-items: center;background-color: white;padding-right: 0.2em;padding-left: 0.2em;position: relative;}#sk-container-id-2 div.sk-item {position: relative;z-index: 1;}#sk-container-id-2 div.sk-parallel {display: flex;align-items: stretch;justify-content: center;background-color: white;position: relative;}#sk-container-id-2 div.sk-item::before, #sk-container-id-2 div.sk-parallel-item::before {content: \"\";position: absolute;border-left: 1px solid gray;box-sizing: border-box;top: 0;bottom: 0;left: 50%;z-index: -1;}#sk-container-id-2 div.sk-parallel-item {display: flex;flex-direction: column;z-index: 1;position: relative;background-color: white;}#sk-container-id-2 div.sk-parallel-item:first-child::after {align-self: flex-end;width: 50%;}#sk-container-id-2 div.sk-parallel-item:last-child::after {align-self: flex-start;width: 50%;}#sk-container-id-2 div.sk-parallel-item:only-child::after {width: 0;}#sk-container-id-2 div.sk-dashed-wrapped {border: 1px dashed gray;margin: 0 0.4em 0.5em 0.4em;box-sizing: border-box;padding-bottom: 0.4em;background-color: white;}#sk-container-id-2 div.sk-label label {font-family: monospace;font-weight: bold;display: inline-block;line-height: 1.2em;}#sk-container-id-2 div.sk-label-container {text-align: center;}#sk-container-id-2 div.sk-container {/* jupyter's `normalize.less` sets `[hidden] { display: none; }` but bootstrap.min.css set `[hidden] { display: none !important; }` so we also need the `!important` here to be able to override the default hidden behavior on the sphinx rendered scikit-learn.org. See: https://github.com/scikit-learn/scikit-learn/issues/21755 */display: inline-block !important;position: relative;}#sk-container-id-2 div.sk-text-repr-fallback {display: none;}</style><div id=\"sk-container-id-2\" class=\"sk-top-container\"><div class=\"sk-text-repr-fallback\"><pre>LogisticRegression(random_state=0, solver=&#x27;liblinear&#x27;)</pre><b>In a Jupyter environment, please rerun this cell to show the HTML representation or trust the notebook. <br />On GitHub, the HTML representation is unable to render, please try loading this page with nbviewer.org.</b></div><div class=\"sk-container\" hidden><div class=\"sk-item\"><div class=\"sk-estimator sk-toggleable\"><input class=\"sk-toggleable__control sk-hidden--visually\" id=\"sk-estimator-id-2\" type=\"checkbox\" checked><label for=\"sk-estimator-id-2\" class=\"sk-toggleable__label sk-toggleable__label-arrow\">LogisticRegression</label><div class=\"sk-toggleable__content\"><pre>LogisticRegression(random_state=0, solver=&#x27;liblinear&#x27;)</pre></div></div></div></div></div>"
      ],
      "text/plain": [
       "LogisticRegression(random_state=0, solver='liblinear')"
      ]
     },
     "execution_count": 40,
     "metadata": {},
     "output_type": "execute_result"
    }
   ],
   "source": [
    "model.fit(X_train, y_train)"
   ]
  },
  {
   "cell_type": "code",
   "execution_count": 41,
   "id": "46060be0",
   "metadata": {},
   "outputs": [],
   "source": [
    "y_hat = model.predict(X_test)"
   ]
  },
  {
   "cell_type": "code",
   "execution_count": 43,
   "id": "402609dc",
   "metadata": {
    "scrolled": true
   },
   "outputs": [
    {
     "data": {
      "text/plain": [
       "array([1., 1., 1., ..., 0., 1., 1.])"
      ]
     },
     "execution_count": 43,
     "metadata": {},
     "output_type": "execute_result"
    }
   ],
   "source": [
    "y_hat"
   ]
  },
  {
   "cell_type": "code",
   "execution_count": 42,
   "id": "e3f4e0c2",
   "metadata": {},
   "outputs": [
    {
     "ename": "NameError",
     "evalue": "name 's' is not defined",
     "output_type": "error",
     "traceback": [
      "\u001b[1;31m---------------------------------------------------------------------------\u001b[0m",
      "\u001b[1;31mNameError\u001b[0m                                 Traceback (most recent call last)",
      "Input \u001b[1;32mIn [42]\u001b[0m, in \u001b[0;36m<cell line: 1>\u001b[1;34m()\u001b[0m\n\u001b[1;32m----> 1\u001b[0m \u001b[43ms\u001b[49m\n",
      "\u001b[1;31mNameError\u001b[0m: name 's' is not defined"
     ]
    }
   ],
   "source": [
    "s"
   ]
  },
  {
   "cell_type": "code",
   "execution_count": 46,
   "id": "27ddada6",
   "metadata": {},
   "outputs": [
    {
     "data": {
      "text/plain": [
       "array([1830850, 1542648, 1477854, 1895644], dtype=int64)"
      ]
     },
     "execution_count": 46,
     "metadata": {},
     "output_type": "execute_result"
    }
   ],
   "source": [
    "confusion_matrix(y_test,y_hat).ravel()"
   ]
  },
  {
   "cell_type": "code",
   "execution_count": 30,
   "id": "2d1154a5",
   "metadata": {},
   "outputs": [],
   "source": [
    "def evaluate(tn,fp,fn,tp):\n",
    "    sensitivity = tp/(tp+fn)\n",
    "    precision = (tp/(tp+fp))\n",
    "    neg_pred_val = (tn/(tn+fn))\n",
    "    specificity = (tn/(tn+fp))\n",
    "    accuracy = ((tp+tn)/(tp+tn+fp+fn))\n",
    "    return sensitivity,precision,neg_pred_val,specificity,accuracy"
   ]
  },
  {
   "cell_type": "code",
   "execution_count": 37,
   "id": "5ebc7ee0",
   "metadata": {},
   "outputs": [
    {
     "ename": "NameError",
     "evalue": "name 'y_hat' is not defined",
     "output_type": "error",
     "traceback": [
      "\u001b[1;31m---------------------------------------------------------------------------\u001b[0m",
      "\u001b[1;31mNameError\u001b[0m                                 Traceback (most recent call last)",
      "Input \u001b[1;32mIn [37]\u001b[0m, in \u001b[0;36m<cell line: 1>\u001b[1;34m()\u001b[0m\n\u001b[1;32m----> 1\u001b[0m evaluate(\u001b[38;5;241m*\u001b[39mconfusion_matrix(y_test,\u001b[43my_hat\u001b[49m)\u001b[38;5;241m.\u001b[39mravel())\n",
      "\u001b[1;31mNameError\u001b[0m: name 'y_hat' is not defined"
     ]
    }
   ],
   "source": [
    "evaluate(*confusion_matrix(y_test,y_hat).ravel())"
   ]
  },
  {
   "cell_type": "code",
   "execution_count": 53,
   "id": "d2636efd",
   "metadata": {},
   "outputs": [],
   "source": [
    "from sklearn.ensemble import RandomForestClassifier, AdaBoostClassifier\n",
    "\n",
    "clf2 = RandomForestClassifier(max_depth=5, n_estimators=10, max_features=2)\n",
    "clf3 = AdaBoostClassifier()\n",
    "clf2 = clf2.fit(X_train, y_train)\n",
    "clf3 = clf3.fit(X_train, y_train)"
   ]
  },
  {
   "cell_type": "code",
   "execution_count": 54,
   "id": "b9e47850",
   "metadata": {},
   "outputs": [
    {
     "data": {
      "text/plain": [
       "(0.25641221958502414,\n",
       " 0.028845822566752798,\n",
       " 0.9883424303068005,\n",
       " 0.879558284594039,\n",
       " 0.8709838504625046)"
      ]
     },
     "execution_count": 54,
     "metadata": {},
     "output_type": "execute_result"
    }
   ],
   "source": [
    "y_hat_RF = clf2.predict(X_test)\n",
    "evaluate(*confusion_matrix(y_test,y_hat_RF).ravel())"
   ]
  },
  {
   "cell_type": "code",
   "execution_count": 55,
   "id": "de7d40b6",
   "metadata": {},
   "outputs": [
    {
     "data": {
      "text/plain": [
       "(0.28011510093663067,\n",
       " 0.07261110890591302,\n",
       " 0.9895391637691201,\n",
       " 0.9500853188014081,\n",
       " 0.9408665885136897)"
      ]
     },
     "execution_count": 55,
     "metadata": {},
     "output_type": "execute_result"
    }
   ],
   "source": [
    "y_hat_AB = clf3.predict(X_test)\n",
    "evaluate(*confusion_matrix(y_test,y_hat_AB).ravel())"
   ]
  },
  {
   "cell_type": "code",
   "execution_count": 50,
   "id": "5d3bd767",
   "metadata": {},
   "outputs": [],
   "source": [
    "from sklearn import tree\n",
    "\n",
    "clf = tree.DecisionTreeClassifier()\n",
    "clf = clf.fit(X_train, y_train)"
   ]
  },
  {
   "cell_type": "code",
   "execution_count": 51,
   "id": "d9c3488b",
   "metadata": {},
   "outputs": [
    {
     "data": {
      "text/plain": [
       "array([[11046078,   187671],\n",
       "       [  112706,    44026]], dtype=int64)"
      ]
     },
     "execution_count": 51,
     "metadata": {},
     "output_type": "execute_result"
    }
   ],
   "source": [
    "y_hat_DC = clf.predict(X_test)\n",
    "confusion_matrix(y_test,y_hat_DC)"
   ]
  },
  {
   "cell_type": "code",
   "execution_count": 52,
   "id": "7085c05b",
   "metadata": {},
   "outputs": [
    {
     "data": {
      "text/plain": [
       "(0.2808998800500217,\n",
       " 0.19001540805448494,\n",
       " 0.9898997955332768,\n",
       " 0.9832940009608546,\n",
       " 0.9736291206666339)"
      ]
     },
     "execution_count": 52,
     "metadata": {},
     "output_type": "execute_result"
    }
   ],
   "source": [
    "evaluate(*confusion_matrix(y_test,y_hat_DC).ravel())"
   ]
  },
  {
   "cell_type": "code",
   "execution_count": 41,
   "id": "179ca49e",
   "metadata": {},
   "outputs": [
    {
     "data": {
      "text/plain": [
       "(0.19805192735524915,\n",
       " 0.23239931781461312,\n",
       " 0.9888343483576097,\n",
       " 0.990873337282745,\n",
       " 0.9799641988214451)"
      ]
     },
     "execution_count": 41,
     "metadata": {},
     "output_type": "execute_result"
    }
   ],
   "source": [
    "evaluate(*confusion_matrix(y_test,y_hat_DC).ravel())"
   ]
  },
  {
   "cell_type": "code",
   "execution_count": 42,
   "id": "2b592271",
   "metadata": {},
   "outputs": [
    {
     "ename": "NameError",
     "evalue": "name 'X_test_' is not defined",
     "output_type": "error",
     "traceback": [
      "\u001b[1;31m---------------------------------------------------------------------------\u001b[0m",
      "\u001b[1;31mNameError\u001b[0m                                 Traceback (most recent call last)",
      "Input \u001b[1;32mIn [42]\u001b[0m, in \u001b[0;36m<cell line: 1>\u001b[1;34m()\u001b[0m\n\u001b[1;32m----> 1\u001b[0m y_hat_DC_ \u001b[38;5;241m=\u001b[39m clf\u001b[38;5;241m.\u001b[39mpredict(\u001b[43mX_test_\u001b[49m)\n\u001b[0;32m      2\u001b[0m evaluate(\u001b[38;5;241m*\u001b[39mconfusion_matrix(y_test_,y_hat_DC_)\u001b[38;5;241m.\u001b[39mravel())\n",
      "\u001b[1;31mNameError\u001b[0m: name 'X_test_' is not defined"
     ]
    }
   ],
   "source": [
    "y_hat_DC_ = clf.predict(X_test_)\n",
    "evaluate(*confusion_matrix(y_test_,y_hat_DC_).ravel())"
   ]
  },
  {
   "cell_type": "code",
   "execution_count": 56,
   "id": "095e1112",
   "metadata": {},
   "outputs": [
    {
     "data": {
      "text/plain": [
       "0.9875438706763356"
      ]
     },
     "execution_count": 56,
     "metadata": {},
     "output_type": "execute_result"
    }
   ],
   "source": [
    "clf.score(X_test_,y_test_)"
   ]
  },
  {
   "cell_type": "code",
   "execution_count": 54,
   "id": "a3f0ba1b",
   "metadata": {},
   "outputs": [],
   "source": [
    "import pickle\n",
    "filename = 'model_Dtree.sav'\n",
    "pickle.dump(model, open(filename, 'wb'))"
   ]
  },
  {
   "cell_type": "code",
   "execution_count": 31,
   "id": "51570351",
   "metadata": {},
   "outputs": [
    {
     "data": {
      "text/plain": [
       "array([1., 1., 0., ..., 1., 1., 1.])"
      ]
     },
     "execution_count": 31,
     "metadata": {},
     "output_type": "execute_result"
    }
   ],
   "source": [
    "from sklearn import svm\n",
    "\n",
    "clf1 = svm.SVC()\n",
    "clf1.fit(X_train, y_train)\n",
    "clf1.predict(X_test)"
   ]
  },
  {
   "cell_type": "code",
   "execution_count": 33,
   "id": "387a7f89",
   "metadata": {},
   "outputs": [
    {
     "ename": "NameError",
     "evalue": "name 'confusion_matrix' is not defined",
     "output_type": "error",
     "traceback": [
      "\u001b[1;31m---------------------------------------------------------------------------\u001b[0m",
      "\u001b[1;31mNameError\u001b[0m                                 Traceback (most recent call last)",
      "Input \u001b[1;32mIn [33]\u001b[0m, in \u001b[0;36m<cell line: 2>\u001b[1;34m()\u001b[0m\n\u001b[0;32m      1\u001b[0m y_hat_svm \u001b[38;5;241m=\u001b[39m clf1\u001b[38;5;241m.\u001b[39mpredict(X_test)\n\u001b[1;32m----> 2\u001b[0m \u001b[43mconfusion_matrix\u001b[49m(y_test,y_hat_svm)\n",
      "\u001b[1;31mNameError\u001b[0m: name 'confusion_matrix' is not defined"
     ]
    }
   ],
   "source": [
    "y_hat_svm = clf1.predict(X_test)"
   ]
  },
  {
   "cell_type": "code",
   "execution_count": 35,
   "id": "6beebf32",
   "metadata": {},
   "outputs": [
    {
     "data": {
      "text/plain": [
       "array([[6645309, 4598560],\n",
       "       [  84085,   72788]], dtype=int64)"
      ]
     },
     "execution_count": 35,
     "metadata": {},
     "output_type": "execute_result"
    }
   ],
   "source": [
    "confusion_matrix(y_test,y_hat_svm)"
   ]
  },
  {
   "cell_type": "code",
   "execution_count": 38,
   "id": "a018bff6",
   "metadata": {},
   "outputs": [
    {
     "data": {
      "text/plain": [
       "(0.46399316644674354,\n",
       " 0.015581797802261788,\n",
       " 0.9875048184130696,\n",
       " 0.5910162240417423,\n",
       " 0.5892684002497381)"
      ]
     },
     "execution_count": 38,
     "metadata": {},
     "output_type": "execute_result"
    }
   ],
   "source": [
    "evaluate(*confusion_matrix(y_test,y_hat_svm).ravel())"
   ]
  },
  {
   "cell_type": "code",
   "execution_count": 43,
   "id": "1cde9b69",
   "metadata": {},
   "outputs": [
    {
     "ename": "ValueError",
     "evalue": "Found unknown categories [2.0, 4.0, 11.0, 15.0, 16.0, 18.0, 19.0, 21.0, 22.0, 23.0, 24.0, 25.0, 26.0, 28.0, 29.0, 30.0, 31.0, 33.0, 34.0, 37.0, 40.0, 43.0, 44.0, 46.0, 48.0, 57.0, 58.0, 59.0, 61.0, 63.0, 65.0, 66.0, 68.0, 71.0, 78.0, 80.0, 83.0, 85.0, 87.0, 88.0, 96.0, 98.0, 99.0, 101.0, 104.0, 105.0, 109.0, 147.0, 155.0, 156.0, 166.0, 176.0, 200.0, 211.0, 218.0, 219.0, 224.0, 230.0, 235.0, 239.0, 241.0, 242.0, 245.0, 246.0, 247.0, 248.0, 252.0, 253.0, 255.0, 256.0, 259.0, 263.0, 264.0, 270.0, 271.0, 272.0, 273.0, 274.0, 275.0, 277.0, 278.0, 284.0, 285.0, 291.0, 295.0, 298.0, 299.0, 311.0, 312.0, 318.0, 321.0, 325.0, 331.0, 332.0, 335.0, 339.0, 343.0, 349.0, 355.0, 357.0, 358.0, 359.0, 360.0, 361.0, 362.0, 365.0, 366.0, 368.0, 372.0, 375.0, 376.0, 377.0, 378.0, 379.0, 382.0, 386.0, 388.0, 389.0, 390.0, 391.0, 392.0, 393.0, 394.0, 395.0, 396.0, 397.0, 400.0, 401.0, 402.0, 404.0, 406.0, 407.0, 408.0, 409.0, 410.0, 411.0, 413.0, 414.0, 418.0, 419.0, 421.0, 422.0, 424.0, 429.0, 438.0, 440.0, 443.0, 444.0, 445.0, 446.0, 447.0, 448.0, 449.0, 451.0, 452.0, 453.0, 456.0, 457.0, 458.0, 460.0, 461.0, 463.0, 464.0, 465.0, 466.0, 467.0, 468.0, 469.0, 474.0, 475.0, 479.0, 483.0, 486.0, 487.0, 488.0, 489.0, 490.0, 493.0, 494.0, 495.0, 497.0, 501.0, 502.0, 503.0, 508.0, 509.0, 510.0, 512.0, 515.0, 516.0, 517.0, 518.0, 519.0, 520.0, 522.0, 524.0, 526.0, 527.0, 528.0] in column 0 during transform",
     "output_type": "error",
     "traceback": [
      "\u001b[1;31m---------------------------------------------------------------------------\u001b[0m",
      "\u001b[1;31mValueError\u001b[0m                                Traceback (most recent call last)",
      "Input \u001b[1;32mIn [43]\u001b[0m, in \u001b[0;36m<cell line: 53>\u001b[1;34m()\u001b[0m\n\u001b[0;32m     46\u001b[0m     \u001b[38;5;28;01mreturn\u001b[39;00m X_train_fs, X_test_fs, fs\n\u001b[0;32m     48\u001b[0m \u001b[38;5;66;03m# load the dataset\u001b[39;00m\n\u001b[0;32m     49\u001b[0m \u001b[38;5;66;03m# X, y = load_dataset('sampling_healtkathon2022\\sampling_healtkathon2022.csv')\u001b[39;00m\n\u001b[0;32m     50\u001b[0m \u001b[38;5;66;03m# split into train and test sets\u001b[39;00m\n\u001b[0;32m     51\u001b[0m \u001b[38;5;66;03m# X_train, X_test, y_train, y_test = train_test_split(X_, y_, test_size=0.33, random_state=1)\u001b[39;00m\n\u001b[0;32m     52\u001b[0m \u001b[38;5;66;03m# prepare input data\u001b[39;00m\n\u001b[1;32m---> 53\u001b[0m X_train_enc, X_test_enc \u001b[38;5;241m=\u001b[39m \u001b[43mprepare_inputs\u001b[49m\u001b[43m(\u001b[49m\u001b[43mX_train\u001b[49m\u001b[43m,\u001b[49m\u001b[43m \u001b[49m\u001b[43mX_test\u001b[49m\u001b[43m)\u001b[49m\n\u001b[0;32m     54\u001b[0m \u001b[38;5;66;03m# prepare output data\u001b[39;00m\n\u001b[0;32m     55\u001b[0m y_train_enc, y_test_enc \u001b[38;5;241m=\u001b[39m prepare_targets(y_train, y_test)\n",
      "Input \u001b[1;32mIn [43]\u001b[0m, in \u001b[0;36mprepare_inputs\u001b[1;34m(X_train, X_test)\u001b[0m\n\u001b[0;32m     26\u001b[0m oe\u001b[38;5;241m.\u001b[39mfit(X_train)\n\u001b[0;32m     27\u001b[0m X_train_enc \u001b[38;5;241m=\u001b[39m oe\u001b[38;5;241m.\u001b[39mtransform(X_train)\n\u001b[1;32m---> 28\u001b[0m X_test_enc \u001b[38;5;241m=\u001b[39m \u001b[43moe\u001b[49m\u001b[38;5;241;43m.\u001b[39;49m\u001b[43mtransform\u001b[49m\u001b[43m(\u001b[49m\u001b[43mX_test\u001b[49m\u001b[43m)\u001b[49m\n\u001b[0;32m     29\u001b[0m \u001b[38;5;28;01mreturn\u001b[39;00m X_train_enc, X_test_enc\n",
      "File \u001b[1;32m~\\anaconda3\\lib\\site-packages\\sklearn\\preprocessing\\_encoders.py:1363\u001b[0m, in \u001b[0;36mOrdinalEncoder.transform\u001b[1;34m(self, X)\u001b[0m\n\u001b[0;32m   1349\u001b[0m \u001b[38;5;28;01mdef\u001b[39;00m \u001b[38;5;21mtransform\u001b[39m(\u001b[38;5;28mself\u001b[39m, X):\n\u001b[0;32m   1350\u001b[0m     \u001b[38;5;124;03m\"\"\"\u001b[39;00m\n\u001b[0;32m   1351\u001b[0m \u001b[38;5;124;03m    Transform X to ordinal codes.\u001b[39;00m\n\u001b[0;32m   1352\u001b[0m \n\u001b[1;32m   (...)\u001b[0m\n\u001b[0;32m   1361\u001b[0m \u001b[38;5;124;03m        Transformed input.\u001b[39;00m\n\u001b[0;32m   1362\u001b[0m \u001b[38;5;124;03m    \"\"\"\u001b[39;00m\n\u001b[1;32m-> 1363\u001b[0m     X_int, X_mask \u001b[38;5;241m=\u001b[39m \u001b[38;5;28;43mself\u001b[39;49m\u001b[38;5;241;43m.\u001b[39;49m\u001b[43m_transform\u001b[49m\u001b[43m(\u001b[49m\n\u001b[0;32m   1364\u001b[0m \u001b[43m        \u001b[49m\u001b[43mX\u001b[49m\u001b[43m,\u001b[49m\u001b[43m \u001b[49m\u001b[43mhandle_unknown\u001b[49m\u001b[38;5;241;43m=\u001b[39;49m\u001b[38;5;28;43mself\u001b[39;49m\u001b[38;5;241;43m.\u001b[39;49m\u001b[43mhandle_unknown\u001b[49m\u001b[43m,\u001b[49m\u001b[43m \u001b[49m\u001b[43mforce_all_finite\u001b[49m\u001b[38;5;241;43m=\u001b[39;49m\u001b[38;5;124;43m\"\u001b[39;49m\u001b[38;5;124;43mallow-nan\u001b[39;49m\u001b[38;5;124;43m\"\u001b[39;49m\n\u001b[0;32m   1365\u001b[0m \u001b[43m    \u001b[49m\u001b[43m)\u001b[49m\n\u001b[0;32m   1366\u001b[0m     X_trans \u001b[38;5;241m=\u001b[39m X_int\u001b[38;5;241m.\u001b[39mastype(\u001b[38;5;28mself\u001b[39m\u001b[38;5;241m.\u001b[39mdtype, copy\u001b[38;5;241m=\u001b[39m\u001b[38;5;28;01mFalse\u001b[39;00m)\n\u001b[0;32m   1368\u001b[0m     \u001b[38;5;28;01mfor\u001b[39;00m cat_idx, missing_idx \u001b[38;5;129;01min\u001b[39;00m \u001b[38;5;28mself\u001b[39m\u001b[38;5;241m.\u001b[39m_missing_indices\u001b[38;5;241m.\u001b[39mitems():\n",
      "File \u001b[1;32m~\\anaconda3\\lib\\site-packages\\sklearn\\preprocessing\\_encoders.py:160\u001b[0m, in \u001b[0;36m_BaseEncoder._transform\u001b[1;34m(self, X, handle_unknown, force_all_finite, warn_on_unknown)\u001b[0m\n\u001b[0;32m    155\u001b[0m \u001b[38;5;28;01mif\u001b[39;00m handle_unknown \u001b[38;5;241m==\u001b[39m \u001b[38;5;124m\"\u001b[39m\u001b[38;5;124merror\u001b[39m\u001b[38;5;124m\"\u001b[39m:\n\u001b[0;32m    156\u001b[0m     msg \u001b[38;5;241m=\u001b[39m (\n\u001b[0;32m    157\u001b[0m         \u001b[38;5;124m\"\u001b[39m\u001b[38;5;124mFound unknown categories \u001b[39m\u001b[38;5;132;01m{0}\u001b[39;00m\u001b[38;5;124m in column \u001b[39m\u001b[38;5;132;01m{1}\u001b[39;00m\u001b[38;5;124m\"\u001b[39m\n\u001b[0;32m    158\u001b[0m         \u001b[38;5;124m\"\u001b[39m\u001b[38;5;124m during transform\u001b[39m\u001b[38;5;124m\"\u001b[39m\u001b[38;5;241m.\u001b[39mformat(diff, i)\n\u001b[0;32m    159\u001b[0m     )\n\u001b[1;32m--> 160\u001b[0m     \u001b[38;5;28;01mraise\u001b[39;00m \u001b[38;5;167;01mValueError\u001b[39;00m(msg)\n\u001b[0;32m    161\u001b[0m \u001b[38;5;28;01melse\u001b[39;00m:\n\u001b[0;32m    162\u001b[0m     \u001b[38;5;28;01mif\u001b[39;00m warn_on_unknown:\n",
      "\u001b[1;31mValueError\u001b[0m: Found unknown categories [2.0, 4.0, 11.0, 15.0, 16.0, 18.0, 19.0, 21.0, 22.0, 23.0, 24.0, 25.0, 26.0, 28.0, 29.0, 30.0, 31.0, 33.0, 34.0, 37.0, 40.0, 43.0, 44.0, 46.0, 48.0, 57.0, 58.0, 59.0, 61.0, 63.0, 65.0, 66.0, 68.0, 71.0, 78.0, 80.0, 83.0, 85.0, 87.0, 88.0, 96.0, 98.0, 99.0, 101.0, 104.0, 105.0, 109.0, 147.0, 155.0, 156.0, 166.0, 176.0, 200.0, 211.0, 218.0, 219.0, 224.0, 230.0, 235.0, 239.0, 241.0, 242.0, 245.0, 246.0, 247.0, 248.0, 252.0, 253.0, 255.0, 256.0, 259.0, 263.0, 264.0, 270.0, 271.0, 272.0, 273.0, 274.0, 275.0, 277.0, 278.0, 284.0, 285.0, 291.0, 295.0, 298.0, 299.0, 311.0, 312.0, 318.0, 321.0, 325.0, 331.0, 332.0, 335.0, 339.0, 343.0, 349.0, 355.0, 357.0, 358.0, 359.0, 360.0, 361.0, 362.0, 365.0, 366.0, 368.0, 372.0, 375.0, 376.0, 377.0, 378.0, 379.0, 382.0, 386.0, 388.0, 389.0, 390.0, 391.0, 392.0, 393.0, 394.0, 395.0, 396.0, 397.0, 400.0, 401.0, 402.0, 404.0, 406.0, 407.0, 408.0, 409.0, 410.0, 411.0, 413.0, 414.0, 418.0, 419.0, 421.0, 422.0, 424.0, 429.0, 438.0, 440.0, 443.0, 444.0, 445.0, 446.0, 447.0, 448.0, 449.0, 451.0, 452.0, 453.0, 456.0, 457.0, 458.0, 460.0, 461.0, 463.0, 464.0, 465.0, 466.0, 467.0, 468.0, 469.0, 474.0, 475.0, 479.0, 483.0, 486.0, 487.0, 488.0, 489.0, 490.0, 493.0, 494.0, 495.0, 497.0, 501.0, 502.0, 503.0, 508.0, 509.0, 510.0, 512.0, 515.0, 516.0, 517.0, 518.0, 519.0, 520.0, 522.0, 524.0, 526.0, 527.0, 528.0] in column 0 during transform"
     ]
    }
   ],
   "source": [
    "# example of chi squared feature selection for categorical data\n",
    "from pandas import read_csv\n",
    "from sklearn.model_selection import train_test_split\n",
    "from sklearn.preprocessing import LabelEncoder\n",
    "from sklearn.preprocessing import OrdinalEncoder\n",
    "from sklearn.feature_selection import SelectKBest\n",
    "from sklearn.feature_selection import chi2\n",
    "from matplotlib import pyplot\n",
    "\n",
    "# load the dataset\n",
    "def load_dataset(filename):\n",
    "\t# load the dataset as a pandas DataFrame\n",
    "\tdata = read_csv(filename, header=None)\n",
    "\t# retrieve numpy array\n",
    "\tdataset = data.values\n",
    "\t# split into input (X) and output (y) variables\n",
    "\tX = dataset[:, :-1]\n",
    "\ty = dataset[:,-1]\n",
    "\t# format all fields as string\n",
    "\tX = X.astype(str)\n",
    "\treturn X, y\n",
    "\n",
    "# prepare input data\n",
    "def prepare_inputs(X_train, X_test):\n",
    "\toe = OrdinalEncoder()\n",
    "\toe.fit(X_train)\n",
    "\tX_train_enc = oe.transform(X_train)\n",
    "\tX_test_enc = oe.transform(X_test)\n",
    "\treturn X_train_enc, X_test_enc\n",
    "\n",
    "# prepare target\n",
    "def prepare_targets(y_train, y_test):\n",
    "\tle = LabelEncoder()\n",
    "\tle.fit(y_train)\n",
    "\ty_train_enc = le.transform(y_train)\n",
    "\ty_test_enc = le.transform(y_test)\n",
    "\treturn y_train_enc, y_test_enc\n",
    "\n",
    "# feature selection\n",
    "def select_features(X_train, y_train, X_test):\n",
    "    #### jawab disini ####\n",
    "    fs = SelectKBest(score_func=chi2,k='all')\n",
    "    fs.fit(X_train, y_train)\n",
    "    X_train_fs = fs.transform(X_train)\n",
    "    X_test_fs = fs.transform(X_test)\n",
    "    return X_train_fs, X_test_fs, fs\n",
    "\n",
    "# load the dataset\n",
    "# X, y = load_dataset('sampling_healtkathon2022\\sampling_healtkathon2022.csv')\n",
    "# split into train and test sets\n",
    "# X_train, X_test, y_train, y_test = train_test_split(X_, y_, test_size=0.33, random_state=1)\n",
    "# prepare input data\n",
    "X_train_enc, X_test_enc = prepare_inputs(X_train, X_test)\n",
    "# prepare output data\n",
    "y_train_enc, y_test_enc = prepare_targets(y_train, y_test)\n",
    "# feature selection\n",
    "X_train_fs, X_test_fs, fs = select_features(X_train_enc, y_train_enc, X_test_enc)\n",
    "# what are scores for the features\n",
    "for i in range(len(fs.scores_)):\n",
    "\tprint('Feature %d: %f' % (i, fs.scores_[i]))\n",
    "# plot the scores\n",
    "pyplot.bar([i for i in range(len(fs.scores_))], fs.scores_)\n",
    "pyplot.show()"
   ]
  },
  {
   "cell_type": "code",
   "execution_count": 64,
   "id": "74f4e2d3",
   "metadata": {},
   "outputs": [
    {
     "name": "stderr",
     "output_type": "stream",
     "text": [
      "C:\\Users\\jmspa\\anaconda3\\lib\\site-packages\\sklearn\\discriminant_analysis.py:887: UserWarning: Variables are collinear\n",
      "  warnings.warn(\"Variables are collinear\")\n"
     ]
    }
   ],
   "source": [
    "from sklearn.naive_bayes import GaussianNB\n",
    "from sklearn.discriminant_analysis import QuadraticDiscriminantAnalysis\n",
    "clf4 = QuadraticDiscriminantAnalysis()\n",
    "\n",
    "clf4 = clf4.fit(X_train, y_train)\n"
   ]
  },
  {
   "cell_type": "code",
   "execution_count": 66,
   "id": "9516ae93",
   "metadata": {},
   "outputs": [
    {
     "name": "stderr",
     "output_type": "stream",
     "text": [
      "C:\\Users\\jmspa\\anaconda3\\lib\\site-packages\\sklearn\\discriminant_analysis.py:912: RuntimeWarning: divide by zero encountered in power\n",
      "  X2 = np.dot(Xm, R * (S ** (-0.5)))\n",
      "C:\\Users\\jmspa\\anaconda3\\lib\\site-packages\\sklearn\\discriminant_analysis.py:912: RuntimeWarning: invalid value encountered in multiply\n",
      "  X2 = np.dot(Xm, R * (S ** (-0.5)))\n",
      "C:\\Users\\jmspa\\anaconda3\\lib\\site-packages\\sklearn\\discriminant_analysis.py:915: RuntimeWarning: divide by zero encountered in log\n",
      "  u = np.asarray([np.sum(np.log(s)) for s in self.scalings_])\n",
      "C:\\Users\\jmspa\\AppData\\Local\\Temp\\ipykernel_21276\\3484246914.py:4: RuntimeWarning: invalid value encountered in longlong_scalars\n",
      "  neg_pred_val = (tn/(tn+fn))\n"
     ]
    },
    {
     "data": {
      "text/plain": [
       "(1.0, 0.013759893873574194, nan, 0.0, 0.013759893873574194)"
      ]
     },
     "execution_count": 66,
     "metadata": {},
     "output_type": "execute_result"
    }
   ],
   "source": [
    "y_hat_QD = clf4.predict(X_test)\n",
    "evaluate(*confusion_matrix(y_test,y_hat_QD).ravel())"
   ]
  },
  {
   "cell_type": "code",
   "execution_count": 49,
   "id": "761d9279",
   "metadata": {},
   "outputs": [
    {
     "data": {
      "text/plain": [
       "(0.8868833422657785,\n",
       " 0.014382069112938295,\n",
       " 0.989725058824893,\n",
       " 0.1520179060436547,\n",
       " 0.16212958873290778)"
      ]
     },
     "execution_count": 49,
     "metadata": {},
     "output_type": "execute_result"
    }
   ],
   "source": [
    "clf5 = GaussianNB()\n",
    "clf5 = clf5.fit(X_train, y_train)\n",
    "y_hat_G = clf5.predict(X_test)\n",
    "evaluate(*confusion_matrix(y_test,y_hat_G).ravel())"
   ]
  },
  {
   "cell_type": "code",
   "execution_count": 37,
   "id": "ee4d7817",
   "metadata": {},
   "outputs": [],
   "source": [
    "from sklearn.preprocessing import StandardScaler\n",
    "from sklearn.datasets import make_moons, make_circles, make_classification\n",
    "from sklearn.neural_network import MLPClassifier\n",
    "from sklearn.neighbors import KNeighborsClassifier\n",
    "from sklearn.svm import SVC\n",
    "from sklearn.gaussian_process import GaussianProcessClassifier\n",
    "from sklearn.gaussian_process.kernels import RBF\n",
    "from sklearn.tree import DecisionTreeClassifier\n",
    "from sklearn.ensemble import RandomForestClassifier, AdaBoostClassifier\n",
    "from sklearn.naive_bayes import GaussianNB\n",
    "from sklearn.discriminant_analysis import QuadraticDiscriminantAnalysis\n",
    "from sklearn.inspection import DecisionBoundaryDisplay"
   ]
  },
  {
   "cell_type": "code",
   "execution_count": 69,
   "id": "b4c138c9",
   "metadata": {},
   "outputs": [],
   "source": [
    "\n",
    "clf8=SVC(kernel=\"linear\", C=0.025)\n",
    "clf9=SVC(gamma=2, C=1)\n",
    "clf10=GaussianProcessClassifier(1.0 * RBF(1.0))\n",
    "\n",
    "\n",
    "clf8 = clf8.fit(X_train, y_train)\n",
    "clf9 = clf9.fit(X_train, y_train)\n",
    "clf10 = clf10.fit(X_train, y_train)"
   ]
  },
  {
   "cell_type": "code",
   "execution_count": 47,
   "id": "5ef6620d",
   "metadata": {},
   "outputs": [
    {
     "data": {
      "text/plain": [
       "(0.027939412500319016,\n",
       " 0.9340870307167235,\n",
       " 0.9866190260089921,\n",
       " 0.9999724935994209,\n",
       " 0.9865974053246742)"
      ]
     },
     "execution_count": 47,
     "metadata": {},
     "output_type": "execute_result"
    }
   ],
   "source": [
    "clf6=MLPClassifier(alpha=1, max_iter=1000)\n",
    "clf6 = clf6.fit(X_train, y_train)\n",
    "y_hat_6 = clf6.predict(X_test)\n",
    "evaluate(*confusion_matrix(y_test,y_hat_6).ravel())"
   ]
  },
  {
   "cell_type": "code",
   "execution_count": 48,
   "id": "0e4184ec",
   "metadata": {},
   "outputs": [
    {
     "data": {
      "text/plain": [
       "(0.4279789704718883,\n",
       " 0.08823069041126883,\n",
       " 0.9915661231597753,\n",
       " 0.9382949538929524,\n",
       " 0.9312730515945727)"
      ]
     },
     "execution_count": 48,
     "metadata": {},
     "output_type": "execute_result"
    }
   ],
   "source": [
    "clf7=KNeighborsClassifier(2)\n",
    "clf7 = clf7.fit(X_train, y_train)\n",
    "y_hat_7 = clf7.predict(X_test)\n",
    "evaluate(*confusion_matrix(y_test,y_hat_7).ravel())"
   ]
  },
  {
   "cell_type": "code",
   "execution_count": null,
   "id": "11528f64",
   "metadata": {},
   "outputs": [],
   "source": [
    "y_hat_8 = clf8.predict(X_test)\n",
    "evaluate(*confusion_matrix(y_test,y_hat_8).ravel())"
   ]
  },
  {
   "cell_type": "code",
   "execution_count": null,
   "id": "543c045f",
   "metadata": {},
   "outputs": [],
   "source": [
    "y_hat_9 = clf9.predict(X_test)\n",
    "evaluate(*confusion_matrix(y_test,y_hat_9).ravel())"
   ]
  },
  {
   "cell_type": "code",
   "execution_count": 41,
   "id": "2368a9e9",
   "metadata": {},
   "outputs": [
    {
     "ename": "MemoryError",
     "evalue": "Unable to allocate 377. GiB for an array with shape (224898, 224898) and data type float64",
     "output_type": "error",
     "traceback": [
      "\u001b[1;31m---------------------------------------------------------------------------\u001b[0m",
      "\u001b[1;31mMemoryError\u001b[0m                               Traceback (most recent call last)",
      "Input \u001b[1;32mIn [41]\u001b[0m, in \u001b[0;36m<cell line: 2>\u001b[1;34m()\u001b[0m\n\u001b[0;32m      1\u001b[0m clf10\u001b[38;5;241m=\u001b[39mGaussianProcessClassifier(\u001b[38;5;241m1.0\u001b[39m \u001b[38;5;241m*\u001b[39m RBF(\u001b[38;5;241m1.0\u001b[39m))\n\u001b[1;32m----> 2\u001b[0m clf10 \u001b[38;5;241m=\u001b[39m \u001b[43mclf10\u001b[49m\u001b[38;5;241;43m.\u001b[39;49m\u001b[43mfit\u001b[49m\u001b[43m(\u001b[49m\u001b[43mX_train\u001b[49m\u001b[43m,\u001b[49m\u001b[43m \u001b[49m\u001b[43my_train\u001b[49m\u001b[43m)\u001b[49m\n\u001b[0;32m      3\u001b[0m y_hat_10 \u001b[38;5;241m=\u001b[39m clf10\u001b[38;5;241m.\u001b[39mpredict(X_test)\n\u001b[0;32m      4\u001b[0m evaluate(\u001b[38;5;241m*\u001b[39mconfusion_matrix(y_test,y_hat_10)\u001b[38;5;241m.\u001b[39mravel())\n",
      "File \u001b[1;32m~\\anaconda3\\lib\\site-packages\\sklearn\\gaussian_process\\_gpc.py:719\u001b[0m, in \u001b[0;36mGaussianProcessClassifier.fit\u001b[1;34m(self, X, y)\u001b[0m\n\u001b[0;32m    716\u001b[0m     \u001b[38;5;28;01melse\u001b[39;00m:\n\u001b[0;32m    717\u001b[0m         \u001b[38;5;28;01mraise\u001b[39;00m \u001b[38;5;167;01mValueError\u001b[39;00m(\u001b[38;5;124m\"\u001b[39m\u001b[38;5;124mUnknown multi-class mode \u001b[39m\u001b[38;5;132;01m%s\u001b[39;00m\u001b[38;5;124m\"\u001b[39m \u001b[38;5;241m%\u001b[39m \u001b[38;5;28mself\u001b[39m\u001b[38;5;241m.\u001b[39mmulti_class)\n\u001b[1;32m--> 719\u001b[0m \u001b[38;5;28;43mself\u001b[39;49m\u001b[38;5;241;43m.\u001b[39;49m\u001b[43mbase_estimator_\u001b[49m\u001b[38;5;241;43m.\u001b[39;49m\u001b[43mfit\u001b[49m\u001b[43m(\u001b[49m\u001b[43mX\u001b[49m\u001b[43m,\u001b[49m\u001b[43m \u001b[49m\u001b[43my\u001b[49m\u001b[43m)\u001b[49m\n\u001b[0;32m    721\u001b[0m \u001b[38;5;28;01mif\u001b[39;00m \u001b[38;5;28mself\u001b[39m\u001b[38;5;241m.\u001b[39mn_classes_ \u001b[38;5;241m>\u001b[39m \u001b[38;5;241m2\u001b[39m:\n\u001b[0;32m    722\u001b[0m     \u001b[38;5;28mself\u001b[39m\u001b[38;5;241m.\u001b[39mlog_marginal_likelihood_value_ \u001b[38;5;241m=\u001b[39m np\u001b[38;5;241m.\u001b[39mmean(\n\u001b[0;32m    723\u001b[0m         [\n\u001b[0;32m    724\u001b[0m             estimator\u001b[38;5;241m.\u001b[39mlog_marginal_likelihood()\n\u001b[0;32m    725\u001b[0m             \u001b[38;5;28;01mfor\u001b[39;00m estimator \u001b[38;5;129;01min\u001b[39;00m \u001b[38;5;28mself\u001b[39m\u001b[38;5;241m.\u001b[39mbase_estimator_\u001b[38;5;241m.\u001b[39mestimators_\n\u001b[0;32m    726\u001b[0m         ]\n\u001b[0;32m    727\u001b[0m     )\n",
      "File \u001b[1;32m~\\anaconda3\\lib\\site-packages\\sklearn\\gaussian_process\\_gpc.py:224\u001b[0m, in \u001b[0;36m_BinaryGaussianProcessClassifierLaplace.fit\u001b[1;34m(self, X, y)\u001b[0m\n\u001b[0;32m    220\u001b[0m         \u001b[38;5;28;01mreturn\u001b[39;00m \u001b[38;5;241m-\u001b[39m\u001b[38;5;28mself\u001b[39m\u001b[38;5;241m.\u001b[39mlog_marginal_likelihood(theta, clone_kernel\u001b[38;5;241m=\u001b[39m\u001b[38;5;28;01mFalse\u001b[39;00m)\n\u001b[0;32m    222\u001b[0m \u001b[38;5;66;03m# First optimize starting from theta specified in kernel\u001b[39;00m\n\u001b[0;32m    223\u001b[0m optima \u001b[38;5;241m=\u001b[39m [\n\u001b[1;32m--> 224\u001b[0m     \u001b[38;5;28;43mself\u001b[39;49m\u001b[38;5;241;43m.\u001b[39;49m\u001b[43m_constrained_optimization\u001b[49m\u001b[43m(\u001b[49m\n\u001b[0;32m    225\u001b[0m \u001b[43m        \u001b[49m\u001b[43mobj_func\u001b[49m\u001b[43m,\u001b[49m\u001b[43m \u001b[49m\u001b[38;5;28;43mself\u001b[39;49m\u001b[38;5;241;43m.\u001b[39;49m\u001b[43mkernel_\u001b[49m\u001b[38;5;241;43m.\u001b[39;49m\u001b[43mtheta\u001b[49m\u001b[43m,\u001b[49m\u001b[43m \u001b[49m\u001b[38;5;28;43mself\u001b[39;49m\u001b[38;5;241;43m.\u001b[39;49m\u001b[43mkernel_\u001b[49m\u001b[38;5;241;43m.\u001b[39;49m\u001b[43mbounds\u001b[49m\n\u001b[0;32m    226\u001b[0m \u001b[43m    \u001b[49m\u001b[43m)\u001b[49m\n\u001b[0;32m    227\u001b[0m ]\n\u001b[0;32m    229\u001b[0m \u001b[38;5;66;03m# Additional runs are performed from log-uniform chosen initial\u001b[39;00m\n\u001b[0;32m    230\u001b[0m \u001b[38;5;66;03m# theta\u001b[39;00m\n\u001b[0;32m    231\u001b[0m \u001b[38;5;28;01mif\u001b[39;00m \u001b[38;5;28mself\u001b[39m\u001b[38;5;241m.\u001b[39mn_restarts_optimizer \u001b[38;5;241m>\u001b[39m \u001b[38;5;241m0\u001b[39m:\n",
      "File \u001b[1;32m~\\anaconda3\\lib\\site-packages\\sklearn\\gaussian_process\\_gpc.py:469\u001b[0m, in \u001b[0;36m_BinaryGaussianProcessClassifierLaplace._constrained_optimization\u001b[1;34m(self, obj_func, initial_theta, bounds)\u001b[0m\n\u001b[0;32m    467\u001b[0m \u001b[38;5;28;01mdef\u001b[39;00m \u001b[38;5;21m_constrained_optimization\u001b[39m(\u001b[38;5;28mself\u001b[39m, obj_func, initial_theta, bounds):\n\u001b[0;32m    468\u001b[0m     \u001b[38;5;28;01mif\u001b[39;00m \u001b[38;5;28mself\u001b[39m\u001b[38;5;241m.\u001b[39moptimizer \u001b[38;5;241m==\u001b[39m \u001b[38;5;124m\"\u001b[39m\u001b[38;5;124mfmin_l_bfgs_b\u001b[39m\u001b[38;5;124m\"\u001b[39m:\n\u001b[1;32m--> 469\u001b[0m         opt_res \u001b[38;5;241m=\u001b[39m \u001b[43mscipy\u001b[49m\u001b[38;5;241;43m.\u001b[39;49m\u001b[43moptimize\u001b[49m\u001b[38;5;241;43m.\u001b[39;49m\u001b[43mminimize\u001b[49m\u001b[43m(\u001b[49m\n\u001b[0;32m    470\u001b[0m \u001b[43m            \u001b[49m\u001b[43mobj_func\u001b[49m\u001b[43m,\u001b[49m\u001b[43m \u001b[49m\u001b[43minitial_theta\u001b[49m\u001b[43m,\u001b[49m\u001b[43m \u001b[49m\u001b[43mmethod\u001b[49m\u001b[38;5;241;43m=\u001b[39;49m\u001b[38;5;124;43m\"\u001b[39;49m\u001b[38;5;124;43mL-BFGS-B\u001b[39;49m\u001b[38;5;124;43m\"\u001b[39;49m\u001b[43m,\u001b[49m\u001b[43m \u001b[49m\u001b[43mjac\u001b[49m\u001b[38;5;241;43m=\u001b[39;49m\u001b[38;5;28;43;01mTrue\u001b[39;49;00m\u001b[43m,\u001b[49m\u001b[43m \u001b[49m\u001b[43mbounds\u001b[49m\u001b[38;5;241;43m=\u001b[39;49m\u001b[43mbounds\u001b[49m\n\u001b[0;32m    471\u001b[0m \u001b[43m        \u001b[49m\u001b[43m)\u001b[49m\n\u001b[0;32m    472\u001b[0m         _check_optimize_result(\u001b[38;5;124m\"\u001b[39m\u001b[38;5;124mlbfgs\u001b[39m\u001b[38;5;124m\"\u001b[39m, opt_res)\n\u001b[0;32m    473\u001b[0m         theta_opt, func_min \u001b[38;5;241m=\u001b[39m opt_res\u001b[38;5;241m.\u001b[39mx, opt_res\u001b[38;5;241m.\u001b[39mfun\n",
      "File \u001b[1;32m~\\anaconda3\\lib\\site-packages\\scipy\\optimize\\_minimize.py:617\u001b[0m, in \u001b[0;36mminimize\u001b[1;34m(fun, x0, args, method, jac, hess, hessp, bounds, constraints, tol, callback, options)\u001b[0m\n\u001b[0;32m    614\u001b[0m     \u001b[38;5;28;01mreturn\u001b[39;00m _minimize_newtoncg(fun, x0, args, jac, hess, hessp, callback,\n\u001b[0;32m    615\u001b[0m                               \u001b[38;5;241m*\u001b[39m\u001b[38;5;241m*\u001b[39moptions)\n\u001b[0;32m    616\u001b[0m \u001b[38;5;28;01melif\u001b[39;00m meth \u001b[38;5;241m==\u001b[39m \u001b[38;5;124m'\u001b[39m\u001b[38;5;124ml-bfgs-b\u001b[39m\u001b[38;5;124m'\u001b[39m:\n\u001b[1;32m--> 617\u001b[0m     \u001b[38;5;28;01mreturn\u001b[39;00m \u001b[43m_minimize_lbfgsb\u001b[49m\u001b[43m(\u001b[49m\u001b[43mfun\u001b[49m\u001b[43m,\u001b[49m\u001b[43m \u001b[49m\u001b[43mx0\u001b[49m\u001b[43m,\u001b[49m\u001b[43m \u001b[49m\u001b[43margs\u001b[49m\u001b[43m,\u001b[49m\u001b[43m \u001b[49m\u001b[43mjac\u001b[49m\u001b[43m,\u001b[49m\u001b[43m \u001b[49m\u001b[43mbounds\u001b[49m\u001b[43m,\u001b[49m\n\u001b[0;32m    618\u001b[0m \u001b[43m                            \u001b[49m\u001b[43mcallback\u001b[49m\u001b[38;5;241;43m=\u001b[39;49m\u001b[43mcallback\u001b[49m\u001b[43m,\u001b[49m\u001b[43m \u001b[49m\u001b[38;5;241;43m*\u001b[39;49m\u001b[38;5;241;43m*\u001b[39;49m\u001b[43moptions\u001b[49m\u001b[43m)\u001b[49m\n\u001b[0;32m    619\u001b[0m \u001b[38;5;28;01melif\u001b[39;00m meth \u001b[38;5;241m==\u001b[39m \u001b[38;5;124m'\u001b[39m\u001b[38;5;124mtnc\u001b[39m\u001b[38;5;124m'\u001b[39m:\n\u001b[0;32m    620\u001b[0m     \u001b[38;5;28;01mreturn\u001b[39;00m _minimize_tnc(fun, x0, args, jac, bounds, callback\u001b[38;5;241m=\u001b[39mcallback,\n\u001b[0;32m    621\u001b[0m                          \u001b[38;5;241m*\u001b[39m\u001b[38;5;241m*\u001b[39moptions)\n",
      "File \u001b[1;32m~\\anaconda3\\lib\\site-packages\\scipy\\optimize\\lbfgsb.py:306\u001b[0m, in \u001b[0;36m_minimize_lbfgsb\u001b[1;34m(fun, x0, args, jac, bounds, disp, maxcor, ftol, gtol, eps, maxfun, maxiter, iprint, callback, maxls, finite_diff_rel_step, **unknown_options)\u001b[0m\n\u001b[0;32m    303\u001b[0m     \u001b[38;5;28;01melse\u001b[39;00m:\n\u001b[0;32m    304\u001b[0m         iprint \u001b[38;5;241m=\u001b[39m disp\n\u001b[1;32m--> 306\u001b[0m sf \u001b[38;5;241m=\u001b[39m \u001b[43m_prepare_scalar_function\u001b[49m\u001b[43m(\u001b[49m\u001b[43mfun\u001b[49m\u001b[43m,\u001b[49m\u001b[43m \u001b[49m\u001b[43mx0\u001b[49m\u001b[43m,\u001b[49m\u001b[43m \u001b[49m\u001b[43mjac\u001b[49m\u001b[38;5;241;43m=\u001b[39;49m\u001b[43mjac\u001b[49m\u001b[43m,\u001b[49m\u001b[43m \u001b[49m\u001b[43margs\u001b[49m\u001b[38;5;241;43m=\u001b[39;49m\u001b[43margs\u001b[49m\u001b[43m,\u001b[49m\u001b[43m \u001b[49m\u001b[43mepsilon\u001b[49m\u001b[38;5;241;43m=\u001b[39;49m\u001b[43meps\u001b[49m\u001b[43m,\u001b[49m\n\u001b[0;32m    307\u001b[0m \u001b[43m                              \u001b[49m\u001b[43mbounds\u001b[49m\u001b[38;5;241;43m=\u001b[39;49m\u001b[43mnew_bounds\u001b[49m\u001b[43m,\u001b[49m\n\u001b[0;32m    308\u001b[0m \u001b[43m                              \u001b[49m\u001b[43mfinite_diff_rel_step\u001b[49m\u001b[38;5;241;43m=\u001b[39;49m\u001b[43mfinite_diff_rel_step\u001b[49m\u001b[43m)\u001b[49m\n\u001b[0;32m    310\u001b[0m func_and_grad \u001b[38;5;241m=\u001b[39m sf\u001b[38;5;241m.\u001b[39mfun_and_grad\n\u001b[0;32m    312\u001b[0m fortran_int \u001b[38;5;241m=\u001b[39m _lbfgsb\u001b[38;5;241m.\u001b[39mtypes\u001b[38;5;241m.\u001b[39mintvar\u001b[38;5;241m.\u001b[39mdtype\n",
      "File \u001b[1;32m~\\anaconda3\\lib\\site-packages\\scipy\\optimize\\optimize.py:261\u001b[0m, in \u001b[0;36m_prepare_scalar_function\u001b[1;34m(fun, x0, jac, args, bounds, epsilon, finite_diff_rel_step, hess)\u001b[0m\n\u001b[0;32m    257\u001b[0m     bounds \u001b[38;5;241m=\u001b[39m (\u001b[38;5;241m-\u001b[39mnp\u001b[38;5;241m.\u001b[39minf, np\u001b[38;5;241m.\u001b[39minf)\n\u001b[0;32m    259\u001b[0m \u001b[38;5;66;03m# ScalarFunction caches. Reuse of fun(x) during grad\u001b[39;00m\n\u001b[0;32m    260\u001b[0m \u001b[38;5;66;03m# calculation reduces overall function evaluations.\u001b[39;00m\n\u001b[1;32m--> 261\u001b[0m sf \u001b[38;5;241m=\u001b[39m \u001b[43mScalarFunction\u001b[49m\u001b[43m(\u001b[49m\u001b[43mfun\u001b[49m\u001b[43m,\u001b[49m\u001b[43m \u001b[49m\u001b[43mx0\u001b[49m\u001b[43m,\u001b[49m\u001b[43m \u001b[49m\u001b[43margs\u001b[49m\u001b[43m,\u001b[49m\u001b[43m \u001b[49m\u001b[43mgrad\u001b[49m\u001b[43m,\u001b[49m\u001b[43m \u001b[49m\u001b[43mhess\u001b[49m\u001b[43m,\u001b[49m\n\u001b[0;32m    262\u001b[0m \u001b[43m                    \u001b[49m\u001b[43mfinite_diff_rel_step\u001b[49m\u001b[43m,\u001b[49m\u001b[43m \u001b[49m\u001b[43mbounds\u001b[49m\u001b[43m,\u001b[49m\u001b[43m \u001b[49m\u001b[43mepsilon\u001b[49m\u001b[38;5;241;43m=\u001b[39;49m\u001b[43mepsilon\u001b[49m\u001b[43m)\u001b[49m\n\u001b[0;32m    264\u001b[0m \u001b[38;5;28;01mreturn\u001b[39;00m sf\n",
      "File \u001b[1;32m~\\anaconda3\\lib\\site-packages\\scipy\\optimize\\_differentiable_functions.py:76\u001b[0m, in \u001b[0;36mScalarFunction.__init__\u001b[1;34m(self, fun, x0, args, grad, hess, finite_diff_rel_step, finite_diff_bounds, epsilon)\u001b[0m\n\u001b[0;32m     73\u001b[0m     \u001b[38;5;28mself\u001b[39m\u001b[38;5;241m.\u001b[39mf \u001b[38;5;241m=\u001b[39m fun_wrapped(\u001b[38;5;28mself\u001b[39m\u001b[38;5;241m.\u001b[39mx)\n\u001b[0;32m     75\u001b[0m \u001b[38;5;28mself\u001b[39m\u001b[38;5;241m.\u001b[39m_update_fun_impl \u001b[38;5;241m=\u001b[39m update_fun\n\u001b[1;32m---> 76\u001b[0m \u001b[38;5;28;43mself\u001b[39;49m\u001b[38;5;241;43m.\u001b[39;49m\u001b[43m_update_fun\u001b[49m\u001b[43m(\u001b[49m\u001b[43m)\u001b[49m\n\u001b[0;32m     78\u001b[0m \u001b[38;5;66;03m# Gradient evaluation\u001b[39;00m\n\u001b[0;32m     79\u001b[0m \u001b[38;5;28;01mif\u001b[39;00m callable(grad):\n",
      "File \u001b[1;32m~\\anaconda3\\lib\\site-packages\\scipy\\optimize\\_differentiable_functions.py:166\u001b[0m, in \u001b[0;36mScalarFunction._update_fun\u001b[1;34m(self)\u001b[0m\n\u001b[0;32m    164\u001b[0m \u001b[38;5;28;01mdef\u001b[39;00m \u001b[38;5;21m_update_fun\u001b[39m(\u001b[38;5;28mself\u001b[39m):\n\u001b[0;32m    165\u001b[0m     \u001b[38;5;28;01mif\u001b[39;00m \u001b[38;5;129;01mnot\u001b[39;00m \u001b[38;5;28mself\u001b[39m\u001b[38;5;241m.\u001b[39mf_updated:\n\u001b[1;32m--> 166\u001b[0m         \u001b[38;5;28;43mself\u001b[39;49m\u001b[38;5;241;43m.\u001b[39;49m\u001b[43m_update_fun_impl\u001b[49m\u001b[43m(\u001b[49m\u001b[43m)\u001b[49m\n\u001b[0;32m    167\u001b[0m         \u001b[38;5;28mself\u001b[39m\u001b[38;5;241m.\u001b[39mf_updated \u001b[38;5;241m=\u001b[39m \u001b[38;5;28;01mTrue\u001b[39;00m\n",
      "File \u001b[1;32m~\\anaconda3\\lib\\site-packages\\scipy\\optimize\\_differentiable_functions.py:73\u001b[0m, in \u001b[0;36mScalarFunction.__init__.<locals>.update_fun\u001b[1;34m()\u001b[0m\n\u001b[0;32m     72\u001b[0m \u001b[38;5;28;01mdef\u001b[39;00m \u001b[38;5;21mupdate_fun\u001b[39m():\n\u001b[1;32m---> 73\u001b[0m     \u001b[38;5;28mself\u001b[39m\u001b[38;5;241m.\u001b[39mf \u001b[38;5;241m=\u001b[39m \u001b[43mfun_wrapped\u001b[49m\u001b[43m(\u001b[49m\u001b[38;5;28;43mself\u001b[39;49m\u001b[38;5;241;43m.\u001b[39;49m\u001b[43mx\u001b[49m\u001b[43m)\u001b[49m\n",
      "File \u001b[1;32m~\\anaconda3\\lib\\site-packages\\scipy\\optimize\\_differentiable_functions.py:70\u001b[0m, in \u001b[0;36mScalarFunction.__init__.<locals>.fun_wrapped\u001b[1;34m(x)\u001b[0m\n\u001b[0;32m     68\u001b[0m \u001b[38;5;28;01mdef\u001b[39;00m \u001b[38;5;21mfun_wrapped\u001b[39m(x):\n\u001b[0;32m     69\u001b[0m     \u001b[38;5;28mself\u001b[39m\u001b[38;5;241m.\u001b[39mnfev \u001b[38;5;241m+\u001b[39m\u001b[38;5;241m=\u001b[39m \u001b[38;5;241m1\u001b[39m\n\u001b[1;32m---> 70\u001b[0m     \u001b[38;5;28;01mreturn\u001b[39;00m \u001b[43mfun\u001b[49m\u001b[43m(\u001b[49m\u001b[43mx\u001b[49m\u001b[43m,\u001b[49m\u001b[43m \u001b[49m\u001b[38;5;241;43m*\u001b[39;49m\u001b[43margs\u001b[49m\u001b[43m)\u001b[49m\n",
      "File \u001b[1;32m~\\anaconda3\\lib\\site-packages\\scipy\\optimize\\optimize.py:74\u001b[0m, in \u001b[0;36mMemoizeJac.__call__\u001b[1;34m(self, x, *args)\u001b[0m\n\u001b[0;32m     72\u001b[0m \u001b[38;5;28;01mdef\u001b[39;00m \u001b[38;5;21m__call__\u001b[39m(\u001b[38;5;28mself\u001b[39m, x, \u001b[38;5;241m*\u001b[39margs):\n\u001b[0;32m     73\u001b[0m     \u001b[38;5;124;03m\"\"\" returns the the function value \"\"\"\u001b[39;00m\n\u001b[1;32m---> 74\u001b[0m     \u001b[38;5;28;43mself\u001b[39;49m\u001b[38;5;241;43m.\u001b[39;49m\u001b[43m_compute_if_needed\u001b[49m\u001b[43m(\u001b[49m\u001b[43mx\u001b[49m\u001b[43m,\u001b[49m\u001b[43m \u001b[49m\u001b[38;5;241;43m*\u001b[39;49m\u001b[43margs\u001b[49m\u001b[43m)\u001b[49m\n\u001b[0;32m     75\u001b[0m     \u001b[38;5;28;01mreturn\u001b[39;00m \u001b[38;5;28mself\u001b[39m\u001b[38;5;241m.\u001b[39m_value\n",
      "File \u001b[1;32m~\\anaconda3\\lib\\site-packages\\scipy\\optimize\\optimize.py:68\u001b[0m, in \u001b[0;36mMemoizeJac._compute_if_needed\u001b[1;34m(self, x, *args)\u001b[0m\n\u001b[0;32m     66\u001b[0m \u001b[38;5;28;01mif\u001b[39;00m \u001b[38;5;129;01mnot\u001b[39;00m np\u001b[38;5;241m.\u001b[39mall(x \u001b[38;5;241m==\u001b[39m \u001b[38;5;28mself\u001b[39m\u001b[38;5;241m.\u001b[39mx) \u001b[38;5;129;01mor\u001b[39;00m \u001b[38;5;28mself\u001b[39m\u001b[38;5;241m.\u001b[39m_value \u001b[38;5;129;01mis\u001b[39;00m \u001b[38;5;28;01mNone\u001b[39;00m \u001b[38;5;129;01mor\u001b[39;00m \u001b[38;5;28mself\u001b[39m\u001b[38;5;241m.\u001b[39mjac \u001b[38;5;129;01mis\u001b[39;00m \u001b[38;5;28;01mNone\u001b[39;00m:\n\u001b[0;32m     67\u001b[0m     \u001b[38;5;28mself\u001b[39m\u001b[38;5;241m.\u001b[39mx \u001b[38;5;241m=\u001b[39m np\u001b[38;5;241m.\u001b[39masarray(x)\u001b[38;5;241m.\u001b[39mcopy()\n\u001b[1;32m---> 68\u001b[0m     fg \u001b[38;5;241m=\u001b[39m \u001b[38;5;28;43mself\u001b[39;49m\u001b[38;5;241;43m.\u001b[39;49m\u001b[43mfun\u001b[49m\u001b[43m(\u001b[49m\u001b[43mx\u001b[49m\u001b[43m,\u001b[49m\u001b[43m \u001b[49m\u001b[38;5;241;43m*\u001b[39;49m\u001b[43margs\u001b[49m\u001b[43m)\u001b[49m\n\u001b[0;32m     69\u001b[0m     \u001b[38;5;28mself\u001b[39m\u001b[38;5;241m.\u001b[39mjac \u001b[38;5;241m=\u001b[39m fg[\u001b[38;5;241m1\u001b[39m]\n\u001b[0;32m     70\u001b[0m     \u001b[38;5;28mself\u001b[39m\u001b[38;5;241m.\u001b[39m_value \u001b[38;5;241m=\u001b[39m fg[\u001b[38;5;241m0\u001b[39m]\n",
      "File \u001b[1;32m~\\anaconda3\\lib\\site-packages\\sklearn\\gaussian_process\\_gpc.py:215\u001b[0m, in \u001b[0;36m_BinaryGaussianProcessClassifierLaplace.fit.<locals>.obj_func\u001b[1;34m(theta, eval_gradient)\u001b[0m\n\u001b[0;32m    213\u001b[0m \u001b[38;5;28;01mdef\u001b[39;00m \u001b[38;5;21mobj_func\u001b[39m(theta, eval_gradient\u001b[38;5;241m=\u001b[39m\u001b[38;5;28;01mTrue\u001b[39;00m):\n\u001b[0;32m    214\u001b[0m     \u001b[38;5;28;01mif\u001b[39;00m eval_gradient:\n\u001b[1;32m--> 215\u001b[0m         lml, grad \u001b[38;5;241m=\u001b[39m \u001b[38;5;28;43mself\u001b[39;49m\u001b[38;5;241;43m.\u001b[39;49m\u001b[43mlog_marginal_likelihood\u001b[49m\u001b[43m(\u001b[49m\n\u001b[0;32m    216\u001b[0m \u001b[43m            \u001b[49m\u001b[43mtheta\u001b[49m\u001b[43m,\u001b[49m\u001b[43m \u001b[49m\u001b[43meval_gradient\u001b[49m\u001b[38;5;241;43m=\u001b[39;49m\u001b[38;5;28;43;01mTrue\u001b[39;49;00m\u001b[43m,\u001b[49m\u001b[43m \u001b[49m\u001b[43mclone_kernel\u001b[49m\u001b[38;5;241;43m=\u001b[39;49m\u001b[38;5;28;43;01mFalse\u001b[39;49;00m\n\u001b[0;32m    217\u001b[0m \u001b[43m        \u001b[49m\u001b[43m)\u001b[49m\n\u001b[0;32m    218\u001b[0m         \u001b[38;5;28;01mreturn\u001b[39;00m \u001b[38;5;241m-\u001b[39mlml, \u001b[38;5;241m-\u001b[39mgrad\n\u001b[0;32m    219\u001b[0m     \u001b[38;5;28;01melse\u001b[39;00m:\n",
      "File \u001b[1;32m~\\anaconda3\\lib\\site-packages\\sklearn\\gaussian_process\\_gpc.py:374\u001b[0m, in \u001b[0;36m_BinaryGaussianProcessClassifierLaplace.log_marginal_likelihood\u001b[1;34m(self, theta, eval_gradient, clone_kernel)\u001b[0m\n\u001b[0;32m    371\u001b[0m     kernel\u001b[38;5;241m.\u001b[39mtheta \u001b[38;5;241m=\u001b[39m theta\n\u001b[0;32m    373\u001b[0m \u001b[38;5;28;01mif\u001b[39;00m eval_gradient:\n\u001b[1;32m--> 374\u001b[0m     K, K_gradient \u001b[38;5;241m=\u001b[39m \u001b[43mkernel\u001b[49m\u001b[43m(\u001b[49m\u001b[38;5;28;43mself\u001b[39;49m\u001b[38;5;241;43m.\u001b[39;49m\u001b[43mX_train_\u001b[49m\u001b[43m,\u001b[49m\u001b[43m \u001b[49m\u001b[43meval_gradient\u001b[49m\u001b[38;5;241;43m=\u001b[39;49m\u001b[38;5;28;43;01mTrue\u001b[39;49;00m\u001b[43m)\u001b[49m\n\u001b[0;32m    375\u001b[0m \u001b[38;5;28;01melse\u001b[39;00m:\n\u001b[0;32m    376\u001b[0m     K \u001b[38;5;241m=\u001b[39m kernel(\u001b[38;5;28mself\u001b[39m\u001b[38;5;241m.\u001b[39mX_train_)\n",
      "File \u001b[1;32m~\\anaconda3\\lib\\site-packages\\sklearn\\gaussian_process\\kernels.py:940\u001b[0m, in \u001b[0;36mProduct.__call__\u001b[1;34m(self, X, Y, eval_gradient)\u001b[0m\n\u001b[0;32m    912\u001b[0m \u001b[38;5;124;03m\"\"\"Return the kernel k(X, Y) and optionally its gradient.\u001b[39;00m\n\u001b[0;32m    913\u001b[0m \n\u001b[0;32m    914\u001b[0m \u001b[38;5;124;03mParameters\u001b[39;00m\n\u001b[1;32m   (...)\u001b[0m\n\u001b[0;32m    937\u001b[0m \u001b[38;5;124;03m    is True.\u001b[39;00m\n\u001b[0;32m    938\u001b[0m \u001b[38;5;124;03m\"\"\"\u001b[39;00m\n\u001b[0;32m    939\u001b[0m \u001b[38;5;28;01mif\u001b[39;00m eval_gradient:\n\u001b[1;32m--> 940\u001b[0m     K1, K1_gradient \u001b[38;5;241m=\u001b[39m \u001b[38;5;28;43mself\u001b[39;49m\u001b[38;5;241;43m.\u001b[39;49m\u001b[43mk1\u001b[49m\u001b[43m(\u001b[49m\u001b[43mX\u001b[49m\u001b[43m,\u001b[49m\u001b[43m \u001b[49m\u001b[43mY\u001b[49m\u001b[43m,\u001b[49m\u001b[43m \u001b[49m\u001b[43meval_gradient\u001b[49m\u001b[38;5;241;43m=\u001b[39;49m\u001b[38;5;28;43;01mTrue\u001b[39;49;00m\u001b[43m)\u001b[49m\n\u001b[0;32m    941\u001b[0m     K2, K2_gradient \u001b[38;5;241m=\u001b[39m \u001b[38;5;28mself\u001b[39m\u001b[38;5;241m.\u001b[39mk2(X, Y, eval_gradient\u001b[38;5;241m=\u001b[39m\u001b[38;5;28;01mTrue\u001b[39;00m)\n\u001b[0;32m    942\u001b[0m     \u001b[38;5;28;01mreturn\u001b[39;00m K1 \u001b[38;5;241m*\u001b[39m K2, np\u001b[38;5;241m.\u001b[39mdstack(\n\u001b[0;32m    943\u001b[0m         (K1_gradient \u001b[38;5;241m*\u001b[39m K2[:, :, np\u001b[38;5;241m.\u001b[39mnewaxis], K2_gradient \u001b[38;5;241m*\u001b[39m K1[:, :, np\u001b[38;5;241m.\u001b[39mnewaxis])\n\u001b[0;32m    944\u001b[0m     )\n",
      "File \u001b[1;32m~\\anaconda3\\lib\\site-packages\\sklearn\\gaussian_process\\kernels.py:1253\u001b[0m, in \u001b[0;36mConstantKernel.__call__\u001b[1;34m(self, X, Y, eval_gradient)\u001b[0m\n\u001b[0;32m   1250\u001b[0m \u001b[38;5;28;01melif\u001b[39;00m eval_gradient:\n\u001b[0;32m   1251\u001b[0m     \u001b[38;5;28;01mraise\u001b[39;00m \u001b[38;5;167;01mValueError\u001b[39;00m(\u001b[38;5;124m\"\u001b[39m\u001b[38;5;124mGradient can only be evaluated when Y is None.\u001b[39m\u001b[38;5;124m\"\u001b[39m)\n\u001b[1;32m-> 1253\u001b[0m K \u001b[38;5;241m=\u001b[39m \u001b[43mnp\u001b[49m\u001b[38;5;241;43m.\u001b[39;49m\u001b[43mfull\u001b[49m\u001b[43m(\u001b[49m\n\u001b[0;32m   1254\u001b[0m \u001b[43m    \u001b[49m\u001b[43m(\u001b[49m\u001b[43m_num_samples\u001b[49m\u001b[43m(\u001b[49m\u001b[43mX\u001b[49m\u001b[43m)\u001b[49m\u001b[43m,\u001b[49m\u001b[43m \u001b[49m\u001b[43m_num_samples\u001b[49m\u001b[43m(\u001b[49m\u001b[43mY\u001b[49m\u001b[43m)\u001b[49m\u001b[43m)\u001b[49m\u001b[43m,\u001b[49m\n\u001b[0;32m   1255\u001b[0m \u001b[43m    \u001b[49m\u001b[38;5;28;43mself\u001b[39;49m\u001b[38;5;241;43m.\u001b[39;49m\u001b[43mconstant_value\u001b[49m\u001b[43m,\u001b[49m\n\u001b[0;32m   1256\u001b[0m \u001b[43m    \u001b[49m\u001b[43mdtype\u001b[49m\u001b[38;5;241;43m=\u001b[39;49m\u001b[43mnp\u001b[49m\u001b[38;5;241;43m.\u001b[39;49m\u001b[43marray\u001b[49m\u001b[43m(\u001b[49m\u001b[38;5;28;43mself\u001b[39;49m\u001b[38;5;241;43m.\u001b[39;49m\u001b[43mconstant_value\u001b[49m\u001b[43m)\u001b[49m\u001b[38;5;241;43m.\u001b[39;49m\u001b[43mdtype\u001b[49m\u001b[43m,\u001b[49m\n\u001b[0;32m   1257\u001b[0m \u001b[43m\u001b[49m\u001b[43m)\u001b[49m\n\u001b[0;32m   1258\u001b[0m \u001b[38;5;28;01mif\u001b[39;00m eval_gradient:\n\u001b[0;32m   1259\u001b[0m     \u001b[38;5;28;01mif\u001b[39;00m \u001b[38;5;129;01mnot\u001b[39;00m \u001b[38;5;28mself\u001b[39m\u001b[38;5;241m.\u001b[39mhyperparameter_constant_value\u001b[38;5;241m.\u001b[39mfixed:\n",
      "File \u001b[1;32m~\\anaconda3\\lib\\site-packages\\numpy\\core\\numeric.py:314\u001b[0m, in \u001b[0;36mfull\u001b[1;34m(shape, fill_value, dtype, order)\u001b[0m\n\u001b[0;32m    312\u001b[0m \u001b[38;5;28;01mif\u001b[39;00m dtype \u001b[38;5;129;01mis\u001b[39;00m \u001b[38;5;28;01mNone\u001b[39;00m:\n\u001b[0;32m    313\u001b[0m     dtype \u001b[38;5;241m=\u001b[39m array(fill_value)\u001b[38;5;241m.\u001b[39mdtype\n\u001b[1;32m--> 314\u001b[0m a \u001b[38;5;241m=\u001b[39m \u001b[43mempty\u001b[49m\u001b[43m(\u001b[49m\u001b[43mshape\u001b[49m\u001b[43m,\u001b[49m\u001b[43m \u001b[49m\u001b[43mdtype\u001b[49m\u001b[43m,\u001b[49m\u001b[43m \u001b[49m\u001b[43morder\u001b[49m\u001b[43m)\u001b[49m\n\u001b[0;32m    315\u001b[0m multiarray\u001b[38;5;241m.\u001b[39mcopyto(a, fill_value, casting\u001b[38;5;241m=\u001b[39m\u001b[38;5;124m'\u001b[39m\u001b[38;5;124munsafe\u001b[39m\u001b[38;5;124m'\u001b[39m)\n\u001b[0;32m    316\u001b[0m \u001b[38;5;28;01mreturn\u001b[39;00m a\n",
      "\u001b[1;31mMemoryError\u001b[0m: Unable to allocate 377. GiB for an array with shape (224898, 224898) and data type float64"
     ]
    }
   ],
   "source": [
    "clf10=GaussianProcessClassifier(1.0 * RBF(1.0))\n",
    "clf10 = clf10.fit(X_train, y_train)\n",
    "y_hat_10 = clf10.predict(X_test)\n",
    "evaluate(*confusion_matrix(y_test,y_hat_10).ravel())"
   ]
  },
  {
   "cell_type": "code",
   "execution_count": null,
   "id": "803fd93c",
   "metadata": {},
   "outputs": [],
   "source": []
  }
 ],
 "metadata": {
  "kernelspec": {
   "display_name": "Python 3 (ipykernel)",
   "language": "python",
   "name": "python3"
  },
  "language_info": {
   "codemirror_mode": {
    "name": "ipython",
    "version": 3
   },
   "file_extension": ".py",
   "mimetype": "text/x-python",
   "name": "python",
   "nbconvert_exporter": "python",
   "pygments_lexer": "ipython3",
   "version": "3.8.5"
  }
 },
 "nbformat": 4,
 "nbformat_minor": 5
}
